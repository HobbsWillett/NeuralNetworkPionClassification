{
 "cells": [
  {
   "cell_type": "code",
   "execution_count": 1,
   "metadata": {},
   "outputs": [],
   "source": [
    "#imports\n",
    "import numpy as np\n",
    "import os.path\n"
   ]
  },
  {
   "cell_type": "code",
   "execution_count": 2,
   "metadata": {},
   "outputs": [
    {
     "name": "stdout",
     "output_type": "stream",
     "text": [
      "in the data file is:  ['small_CNN_input.root', 'full_CNN_input.root', 'small_CNN_input.txt', 'full_CNN_input.txt', 'small_CNN_input_clean.txt.gz', 'small_CNN_input_clean.txt', 'full_CNN_input_clean.txt', 'full_CNN_input_clean.txt.gz']\n"
     ]
    }
   ],
   "source": [
    "# find path to files\n",
    "os.path.abspath(\"~/NeutrinoData/small_CNN_input.txt\")\n",
    "\n",
    "print(\"in the data file is: \",os.listdir(\"/home/willett/NeutrinoData\"))\n",
    "\n"
   ]
  },
  {
   "cell_type": "markdown",
   "metadata": {},
   "source": [
    "# Lets do Small first!"
   ]
  },
  {
   "cell_type": "code",
   "execution_count": 3,
   "metadata": {},
   "outputs": [
    {
     "name": "stdout",
     "output_type": "stream",
     "text": [
      "    Row        sigBg  FirstLaye  LastLayer      NHits  AverageZP     Thrust  PID_Angle  PID_Front  PID_LLR_M  FirstLaye  LastLayer  NHits_Low  AverageZP  Thrust_Lo  PID_Angle  PID_Front  PID_LLR_M  Energy_As  Angle_Bet  Distance_ \n",
      " \n",
      " (247, 23)\n",
      " \n"
     ]
    }
   ],
   "source": [
    "#creating clean array store from data!\n",
    "pls = open(\"/home/willett/NeutrinoData/small_CNN_input.txt\",\"r\")\n",
    "\n",
    "#titles:\n",
    "smolltitle = pls.readline()\n",
    "smolltitle = pls.readline()\n",
    "smolltitle = smolltitle.replace(\"*\",\"\")\n",
    "\n",
    "#data input:\n",
    "smoll = np.genfromtxt(\"/home/willett/NeutrinoData/small_CNN_input.txt\", delimiter=\"*\",skip_header=3, skip_footer=1)\n",
    "\n",
    "print(smolltitle,\"\\n\",smoll.shape)\n",
    "print(smolltitle[1])"
   ]
  },
  {
   "cell_type": "code",
   "execution_count": 5,
   "metadata": {},
   "outputs": [],
   "source": [
    "# cleaned up array\n",
    "smoll2 = smoll[:,1:-1]\n",
    "\n",
    "#smolltitle2 = np.array(smolltitle)\n",
    "#smoll3 = np.vstack((smolltitle2,smoll2))\n",
    "\n",
    "#checks\n",
    "#print(smolltitle2.shape,\"\\n\",smoll2.shape)\n",
    "#print(smoll2[0,:])\n",
    "#print(smoll3[0:2,:],\"\\n\", smoll3.shape)"
   ]
  },
  {
   "cell_type": "code",
   "execution_count": 6,
   "metadata": {},
   "outputs": [],
   "source": [
    "# saving clean version\n",
    "\n",
    "np.savetxt(\"/home/willett/NeutrinoData/small_CNN_input_clean.txt\",smoll2, header= smolltitle)\n",
    "np.savetxt(\"/home/willett/NeutrinoData/small_CNN_input_clean.txt.gz\",smoll2, header= smolltitle)"
   ]
  },
  {
   "cell_type": "markdown",
   "metadata": {},
   "source": [
    "# Now in full!"
   ]
  },
  {
   "cell_type": "code",
   "execution_count": 7,
   "metadata": {},
   "outputs": [
    {
     "name": "stdout",
     "output_type": "stream",
     "text": [
      "    Row        sigBg  FirstLaye  LastLayer      NHits  AverageZP     Thrust  PID_Angle  PID_Front  PID_LLR_M  FirstLaye  LastLayer  NHits_Low  AverageZP  Thrust_Lo  PID_Angle  PID_Front  PID_LLR_M  Energy_As  Angle_Bet  Distance_ \n",
      " \n",
      " (57851, 23)\n",
      "[           nan  0.0000000e+00 -9.9900000e+02  9.0000000e+00\n",
      "  3.0000000e+01  2.6000000e+01  6.1138464e+02  9.9445040e-01\n",
      "  4.9888916e+01  6.7961200e-02  3.4687889e+01  2.0000000e+00\n",
      "  3.1000000e+01  1.4000000e+01  5.7600000e+02  9.6934470e-01\n",
      "  4.9888916e+01  6.7961200e-02  1.3910054e+00  7.5552750e-01\n",
      "  1.7113097e+00  6.7944533e+02            nan]\n"
     ]
    }
   ],
   "source": [
    "#creating clean array store from data!\n",
    "pls = open(\"/home/willett/NeutrinoData/full_CNN_input.txt\",\"r\")\n",
    "\n",
    "#titles:\n",
    "flltitle = pls.readline()\n",
    "flltitle = pls.readline()\n",
    "flltitle = smolltitle.replace(\"*\",\"\")\n",
    "\n",
    "#data input:\n",
    "fll = np.genfromtxt(\"/home/willett/NeutrinoData/full_CNN_input.txt\", delimiter=\"*\",skip_header=3, skip_footer=1)\n",
    "\n",
    "print(flltitle,\"\\n\",fll.shape)\n",
    "print(fll[0,:])"
   ]
  },
  {
   "cell_type": "code",
   "execution_count": 8,
   "metadata": {},
   "outputs": [
    {
     "name": "stdout",
     "output_type": "stream",
     "text": [
      "[ 0.0000000e+00 -9.9900000e+02  9.0000000e+00  3.0000000e+01\n",
      "  2.6000000e+01  6.1138464e+02  9.9445040e-01  4.9888916e+01\n",
      "  6.7961200e-02  3.4687889e+01  2.0000000e+00  3.1000000e+01\n",
      "  1.4000000e+01  5.7600000e+02  9.6934470e-01  4.9888916e+01\n",
      "  6.7961200e-02  1.3910054e+00  7.5552750e-01  1.7113097e+00\n",
      "  6.7944533e+02]\n"
     ]
    }
   ],
   "source": [
    "#cleaning up\n",
    "fll2 = fll[:,1:-1]\n",
    "\n",
    "print(fll2[0,:])"
   ]
  },
  {
   "cell_type": "code",
   "execution_count": 9,
   "metadata": {},
   "outputs": [],
   "source": [
    "np.savetxt(\"/home/willett/NeutrinoData/full_CNN_input_clean.txt\",fll2, header= flltitle)\n",
    "np.savetxt(\"/home/willett/NeutrinoData/full_CNN_input_clean.txt.gz\",fll2, header= flltitle)"
   ]
  },
  {
   "cell_type": "markdown",
   "metadata": {},
   "source": [
    "## next step, removing impurities, and prep for the Network"
   ]
  },
  {
   "cell_type": "code",
   "execution_count": null,
   "metadata": {},
   "outputs": [],
   "source": []
  },
  {
   "cell_type": "code",
   "execution_count": null,
   "metadata": {},
   "outputs": [],
   "source": []
  },
  {
   "cell_type": "code",
   "execution_count": null,
   "metadata": {},
   "outputs": [],
   "source": []
  }
 ],
 "metadata": {
  "kernelspec": {
   "display_name": "Python 3",
   "language": "python",
   "name": "python3"
  },
  "language_info": {
   "codemirror_mode": {
    "name": "ipython",
    "version": 3
   },
   "file_extension": ".py",
   "mimetype": "text/x-python",
   "name": "python",
   "nbconvert_exporter": "python",
   "pygments_lexer": "ipython3",
   "version": "3.6.5"
  }
 },
 "nbformat": 4,
 "nbformat_minor": 2
}
