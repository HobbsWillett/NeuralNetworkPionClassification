{
 "cells": [
  {
   "cell_type": "markdown",
   "metadata": {},
   "source": [
    "## This time i oversample + research optimal optimiser (adam) and loss functions"
   ]
  },
  {
   "cell_type": "code",
   "execution_count": 1,
   "metadata": {},
   "outputs": [
    {
     "name": "stderr",
     "output_type": "stream",
     "text": [
      "Using TensorFlow backend.\n"
     ]
    },
    {
     "name": "stdout",
     "output_type": "stream",
     "text": [
      "--- 5.664812088012695 seconds ---\n"
     ]
    }
   ],
   "source": [
    "#imports\n",
    "import time\n",
    "start_time = time.time()\n",
    "import numpy as np\n",
    "from matplotlib import pyplot as plt\n",
    "from keras import Sequential\n",
    "from keras.layers import Dense, Dropout, Conv1D, Flatten\n",
    "from keras.metrics import binary_accuracy\n",
    "#from keras.utils import np_utils\n",
    "print(\"--- %s seconds ---\" % (time.time() - start_time))"
   ]
  },
  {
   "cell_type": "code",
   "execution_count": 2,
   "metadata": {},
   "outputs": [
    {
     "name": "stdout",
     "output_type": "stream",
     "text": [
      "--- 2.172835111618042 seconds ---\n",
      "(46280, 21)\n",
      " FirstLayer  LastLayer NHits  AverageZP Thrust  PID_Angle  PID_Front  PID_LLR_M  FirstLayer  LastLayer  NHits_Low  AverageZP  Thrust_Lo  PID_Angle  PID_Front  PID_LLR_M  Energy_As  Angle_Bet  Distance_Bet   Sig   Bg\n"
     ]
    }
   ],
   "source": [
    "# import datasets with time taken!\n",
    "#smoll\n",
    "\"\"\" # commented out to save computation\n",
    "start_time = time.time()\n",
    "smoll = np.loadtxt(\"/home/willett/NeutrinoData/small_CNN_input_processed.txt\", comments='#')\n",
    "print(\"--- %s seconds ---\" % (time.time() - start_time))\n",
    "print(smoll.shape)\n",
    "\"\"\"\n",
    "\n",
    "#and the full\n",
    "start_time = time.time()\n",
    "fll = np.loadtxt(\"/home/willett/NeutrinoData/full_CNN_input_processed.txt\", comments='#')\n",
    "print(\"--- %s seconds ---\" % (time.time() - start_time))\n",
    "print(fll.shape)\n",
    "\n",
    "\n",
    "\"\"\" # commented out to save computation\n",
    "#and the full\n",
    "start_time = time.time()\n",
    "fll = np.loadtxt(\"/home/willett/NeutrinoData/test_CNN_input_processed.txt\", comments='#')\n",
    "print(\"--- %s seconds ---\" % (time.time() - start_time))\n",
    "print(fll.shape)\n",
    "\"\"\"\n",
    "\n",
    "# extract title\n",
    "pls = open(\"/home/willett/NeutrinoData/small_CNN_input_processed.txt\", \"r\")\n",
    "title = pls.readline()\n",
    "title = title[2:-1]\n",
    "print(title)\n",
    "\n"
   ]
  },
  {
   "cell_type": "code",
   "execution_count": 3,
   "metadata": {},
   "outputs": [
    {
     "name": "stdout",
     "output_type": "stream",
     "text": [
      "shape:  (46280, 21) \n",
      "size:  971880  \n",
      "length:  46280\n"
     ]
    }
   ],
   "source": [
    "# creating a dataset switch, change what UsedData is to change CNN\n",
    "UD = fll # Used Data = <dataset>\n",
    "UDLength = UD.shape[0]\n",
    "print(\"shape: \",UD.shape,\"\\nsize: \", UD.size,\" \\nlength: \", UDLength)\n",
    "\n",
    "# dataset is expected in this format:\n",
    "# FirstLayer  LastLayer NHits  AverageZP Thrust  PID_Angle  PID_Front  PID_LLR_M\n",
    "#FirstLayer  LastLayer  NHits_Low  AverageZP  Thrust_Lo  PID_Angle  PID_Front  PID_LLR_M  \n",
    "#Energy_As  Angle_Bet  Distance_Bet   Sig   Bg\n",
    "\n",
    "# with Sig and Bg expected as one hot vectors."
   ]
  },
  {
   "cell_type": "code",
   "execution_count": 4,
   "metadata": {},
   "outputs": [
    {
     "name": "stdout",
     "output_type": "stream",
     "text": [
      "X shape:  (46280, 19) \n",
      "Y shape:  (46280, 2)\n"
     ]
    }
   ],
   "source": [
    "# splitting X = dataset , Y = one hot vectors\n",
    "X = UD[:,0:-2]\n",
    "Y = UD[:,-2:1000]\n",
    "print(\"X shape: \",X.shape,\"\\nY shape: \", Y.shape)\n",
    "\n",
    "# they will be split into testing and training at compile"
   ]
  },
  {
   "cell_type": "code",
   "execution_count": 14,
   "metadata": {},
   "outputs": [
    {
     "name": "stdout",
     "output_type": "stream",
     "text": [
      "0.0006966362622778047 0.6264844828458389\n"
     ]
    }
   ],
   "source": [
    "# this is a convolutional network so data must be spacially relevant: i.e. columns must be swapped.\n",
    "# Convolution kernel size = (2,)\n",
    "\n",
    "#swapping PID angle and PID front for high energy so two charge related variables in one convolution\n",
    "PIDAH = X[:,5]\n",
    "PIDFH = X[:,6]\n",
    "X[:,5:7] = np.column_stack((PIDFH,PIDAH))\n",
    "\n",
    "#swapping PID angle and PID front for low energy so two charge related variables in one convolution\n",
    "PIDAL = X[:,13]\n",
    "PIDFL = X[:,14]\n",
    "X[:,13:15] =  np.column_stack((PIDFL,PIDAL))\n",
    "\n",
    "#swapping Energy Asymetry and Distance so two geometric related variables in one convolution\n",
    "# While simultaneously padding with zeros!\n",
    "EAS = X[:,16]\n",
    "DB = X[:,-1]\n",
    "print(EAS[0],DB[0])\n",
    "X2 = np.zeros((UDLength,20))\n",
    "X2[:,0:-1] = X\n",
    "X2[:,16] = DB\n",
    "X2[:,18] = EAS\n",
    "\n",
    "#To debug print X before and X2 after, see if they swap"
   ]
  },
  {
   "cell_type": "code",
   "execution_count": 6,
   "metadata": {},
   "outputs": [
    {
     "name": "stdout",
     "output_type": "stream",
     "text": [
      " signal and background event number:  1148 45132 \n",
      " number more needed: 39\n",
      "initial Signal to Noise ratio:  2.4805531547104582 %\n",
      "(1148, 19) (45132, 19) (1148, 2) (45132, 2)\n",
      "(44772, 19) (44772, 2)\n",
      "(89904, 19) (89904, 2)\n",
      "[0.00829848 0.0039091  0.00049919] [0. 0. 0.]\n",
      "[0.0006866  0.00018328 0.00023447] [1. 1. 1.]\n",
      "final Signal Noise ratio:  49.799786438868125 %\n"
     ]
    }
   ],
   "source": [
    "# inevitable bias removal... by oversampling\n",
    "# using a 50% oversampling ratio, because i want to ! (no citation)\n",
    "\n",
    "SigI = np.where(Y[:,0] == 1)[0] \n",
    "BgI= np.where(Y[:,0] == 0)[0]\n",
    "SigN = SigI.size       # how much signal there is\n",
    "BgN = BgI.size         # how much background there is\n",
    "Multip = int(BgN/SigN) # how much more signal event copies needed for ~50%\n",
    "print(\" signal and background event number: \",SigI.size,BgI.size,\"\\n number more needed:\",Multip)\n",
    "SNratio =  (100*SigN)/(SigN + BgN)\n",
    "print(\"initial Signal to Noise ratio: \",SNratio,\"%\")\n",
    "\n",
    "#im going to reconstruct the arrays of signal events, background events, then add them together and shuffle!\n",
    "\n",
    "XSig = X[SigI]\n",
    "XBg = X[BgI]\n",
    "YSig = Y[SigI]\n",
    "YBg = Y[BgI]\n",
    "print(XSig.shape,XBg.shape, YSig.shape, YBg.shape) # these are the events of each type.\n",
    "\n",
    "# this is the array of signal repreated (tiled) multip times.\n",
    "YSigM = np.transpose(np.tile(np.transpose(YSig), Multip))\n",
    "XSigM = np.transpose(np.tile(np.transpose(XSig), Multip)) \n",
    "print( XSigM.shape, YSigM.shape)\n",
    "\n",
    "#adding arrays together and then shuffling:\n",
    "X2 = np.concatenate((XBg,XSigM))\n",
    "Y2 = np.concatenate((YBg,YSigM))\n",
    "print(X2.shape, Y2.shape)\n",
    "\n",
    "#shuffling\n",
    "print(X2[0:3,0],Y2[0:3,0])\n",
    "np.random.shuffle(X2)\n",
    "np.random.shuffle(Y2)\n",
    "print(X2[0:3,0],Y2[0:3,0])\n",
    "\n",
    "#final ratio:\n",
    "NewSigN = YSigM.shape[0]\n",
    "SNRatioNew = (100*YSigM.shape[0]) / (YSigM.shape[0] + BgN)\n",
    "print(\"final Signal Noise ratio: \",SNRatioNew,\"%\")\n",
    "\n",
    "\n"
   ]
  },
  {
   "cell_type": "code",
   "execution_count": 7,
   "metadata": {},
   "outputs": [],
   "source": [
    "X2 = np.expand_dims(X2, axis=2) # i.e. reshape (569, 30) to (569, 30, 1) for convolution "
   ]
  },
  {
   "cell_type": "code",
   "execution_count": 8,
   "metadata": {},
   "outputs": [],
   "source": [
    "# set variables:\n",
    "InDim = (X2.shape[1],X2.shape[2])       #input dimension\n",
    "Fltr = 6                                #dimensionality of output space\n",
    "KD = 2                                  # kernel size\n",
    "Width = 12                               # width of dense layers ~ 0.75 input initially\n",
    "DR = 0.5                                # rate of dropout\n",
    "\n",
    "\n",
    "# linear model with a convolutional and 3 (?) dense layers.\n",
    "Model = Sequential() \n",
    "\n",
    "Model.add(Conv1D(Fltr,   KD  , input_shape=InDim  , activation=\"sigmoid\", use_bias=True  )) #conv\n",
    "Model.add(Flatten())\n",
    "Model.add(Dense(Width, activation=\"sigmoid\", use_bias=True)) #1\n",
    "Model.add(Dropout(DR) )\n",
    "Model.add(Dense(Width, activation=\"sigmoid\", use_bias=True)) #2\n",
    "Model.add(Dropout(DR) )\n",
    "Model.add(Dense(Width, activation=\"sigmoid\", use_bias=True)) #3\n",
    "Model.add(Dropout(DR) )\n",
    "\n",
    "#ooh\n",
    "Model.add(Dense(Width, activation=\"sigmoid\", use_bias=True)) #4!\n",
    "Model.add(Dropout(DR) )\n",
    "#aah!\n",
    "\n",
    "Model.add(Dense(2, activation=\"softmax\", use_bias=True)) # output layer"
   ]
  },
  {
   "cell_type": "code",
   "execution_count": 9,
   "metadata": {},
   "outputs": [],
   "source": [
    "# compile model:\n",
    "\n",
    "# For a binary classification problem\n",
    "Model.compile(optimizer='adam',            # adam is best for me according to https://towardsdatascience.com/types-of-optimization-algorithms-used-in-neural-networks-and-ways-to-optimize-gradient-95ae5d39529f\n",
    "              loss='binary_crossentropy',  #binary_crossentropy is the best according to https://www.dlology.com/blog/how-to-choose-last-layer-activation-and-loss-function/\n",
    "              metrics=['accuracy', 'binary_accuracy' ])"
   ]
  },
  {
   "cell_type": "code",
   "execution_count": 12,
   "metadata": {},
   "outputs": [
    {
     "name": "stdout",
     "output_type": "stream",
     "text": [
      "Train on 80913 samples, validate on 8991 samples\n",
      "Epoch 1/50\n",
      "80913/80913 [==============================] - 18s 224us/step - loss: 0.6932 - acc: 0.4994 - binary_accuracy: 0.4994 - val_loss: 0.6933 - val_acc: 0.4962 - val_binary_accuracy: 0.4962\n",
      "Epoch 2/50\n",
      "80913/80913 [==============================] - 17s 214us/step - loss: 0.6932 - acc: 0.5014 - binary_accuracy: 0.5014 - val_loss: 0.6932 - val_acc: 0.4962 - val_binary_accuracy: 0.4962\n",
      "Epoch 3/50\n",
      "80913/80913 [==============================] - 17s 216us/step - loss: 0.6932 - acc: 0.4998 - binary_accuracy: 0.4998 - val_loss: 0.6932 - val_acc: 0.4962 - val_binary_accuracy: 0.4962\n",
      "Epoch 4/50\n",
      "80913/80913 [==============================] - 17s 213us/step - loss: 0.6932 - acc: 0.5017 - binary_accuracy: 0.5017 - val_loss: 0.6931 - val_acc: 0.5038 - val_binary_accuracy: 0.5038\n",
      "Epoch 5/50\n",
      "80913/80913 [==============================] - 18s 220us/step - loss: 0.6932 - acc: 0.5001 - binary_accuracy: 0.5001 - val_loss: 0.6931 - val_acc: 0.5038 - val_binary_accuracy: 0.5038\n",
      "Epoch 6/50\n",
      "80913/80913 [==============================] - 18s 223us/step - loss: 0.6932 - acc: 0.4985 - binary_accuracy: 0.4985 - val_loss: 0.6933 - val_acc: 0.4962 - val_binary_accuracy: 0.4962\n",
      "Epoch 7/50\n",
      "80913/80913 [==============================] - 18s 220us/step - loss: 0.6932 - acc: 0.5020 - binary_accuracy: 0.5020 - val_loss: 0.6931 - val_acc: 0.5038 - val_binary_accuracy: 0.5038\n",
      "Epoch 8/50\n",
      "80913/80913 [==============================] - 18s 225us/step - loss: 0.6932 - acc: 0.5011 - binary_accuracy: 0.5011 - val_loss: 0.6932 - val_acc: 0.4962 - val_binary_accuracy: 0.4962\n",
      "Epoch 9/50\n",
      "80913/80913 [==============================] - 18s 224us/step - loss: 0.6932 - acc: 0.5020 - binary_accuracy: 0.5020 - val_loss: 0.6933 - val_acc: 0.4962 - val_binary_accuracy: 0.4962\n",
      "Epoch 10/50\n",
      "80913/80913 [==============================] - 18s 222us/step - loss: 0.6932 - acc: 0.4993 - binary_accuracy: 0.4993 - val_loss: 0.6932 - val_acc: 0.4962 - val_binary_accuracy: 0.4962\n",
      "Epoch 11/50\n",
      "80913/80913 [==============================] - 18s 218us/step - loss: 0.6932 - acc: 0.5009 - binary_accuracy: 0.5009 - val_loss: 0.6934 - val_acc: 0.4962 - val_binary_accuracy: 0.4962\n",
      "Epoch 12/50\n",
      "80913/80913 [==============================] - 18s 218us/step - loss: 0.6932 - acc: 0.5019 - binary_accuracy: 0.5019 - val_loss: 0.6931 - val_acc: 0.5038 - val_binary_accuracy: 0.5038\n",
      "Epoch 13/50\n",
      "80913/80913 [==============================] - 17s 215us/step - loss: 0.6932 - acc: 0.5013 - binary_accuracy: 0.5013 - val_loss: 0.6931 - val_acc: 0.5038 - val_binary_accuracy: 0.5038\n",
      "Epoch 14/50\n",
      "80913/80913 [==============================] - 18s 228us/step - loss: 0.6932 - acc: 0.4989 - binary_accuracy: 0.4989 - val_loss: 0.6934 - val_acc: 0.4962 - val_binary_accuracy: 0.4962\n",
      "Epoch 15/50\n",
      "80913/80913 [==============================] - 18s 224us/step - loss: 0.6932 - acc: 0.4973 - binary_accuracy: 0.4973 - val_loss: 0.6932 - val_acc: 0.4962 - val_binary_accuracy: 0.4962\n",
      "Epoch 16/50\n",
      "80913/80913 [==============================] - 18s 223us/step - loss: 0.6932 - acc: 0.5004 - binary_accuracy: 0.5004 - val_loss: 0.6934 - val_acc: 0.4962 - val_binary_accuracy: 0.4962\n",
      "Epoch 17/50\n",
      "80913/80913 [==============================] - 17s 213us/step - loss: 0.6932 - acc: 0.5011 - binary_accuracy: 0.5011 - val_loss: 0.6932 - val_acc: 0.4962 - val_binary_accuracy: 0.4962\n",
      "Epoch 18/50\n",
      "80913/80913 [==============================] - 18s 221us/step - loss: 0.6932 - acc: 0.5023 - binary_accuracy: 0.5023 - val_loss: 0.6931 - val_acc: 0.4962 - val_binary_accuracy: 0.4962\n",
      "Epoch 19/50\n",
      "80913/80913 [==============================] - 18s 223us/step - loss: 0.6932 - acc: 0.5024 - binary_accuracy: 0.5024 - val_loss: 0.6935 - val_acc: 0.4962 - val_binary_accuracy: 0.4962\n",
      "Epoch 20/50\n",
      "80913/80913 [==============================] - 18s 218us/step - loss: 0.6932 - acc: 0.5001 - binary_accuracy: 0.5001 - val_loss: 0.6931 - val_acc: 0.5038 - val_binary_accuracy: 0.5038\n",
      "Epoch 21/50\n",
      "80913/80913 [==============================] - 18s 225us/step - loss: 0.6932 - acc: 0.5010 - binary_accuracy: 0.5010 - val_loss: 0.6935 - val_acc: 0.4962 - val_binary_accuracy: 0.4962\n",
      "Epoch 22/50\n",
      "80913/80913 [==============================] - 18s 218us/step - loss: 0.6932 - acc: 0.5021 - binary_accuracy: 0.5021 - val_loss: 0.6932 - val_acc: 0.4962 - val_binary_accuracy: 0.4962\n",
      "Epoch 23/50\n",
      "80913/80913 [==============================] - 18s 223us/step - loss: 0.6932 - acc: 0.5003 - binary_accuracy: 0.5003 - val_loss: 0.6932 - val_acc: 0.4962 - val_binary_accuracy: 0.4962\n",
      "Epoch 24/50\n",
      "80913/80913 [==============================] - 17s 214us/step - loss: 0.6932 - acc: 0.5026 - binary_accuracy: 0.5026 - val_loss: 0.6935 - val_acc: 0.4962 - val_binary_accuracy: 0.4962\n",
      "Epoch 25/50\n",
      "80913/80913 [==============================] - 18s 222us/step - loss: 0.6932 - acc: 0.5010 - binary_accuracy: 0.5010 - val_loss: 0.6931 - val_acc: 0.5038 - val_binary_accuracy: 0.5038\n",
      "Epoch 26/50\n",
      "80913/80913 [==============================] - 18s 225us/step - loss: 0.6932 - acc: 0.5009 - binary_accuracy: 0.5009 - val_loss: 0.6933 - val_acc: 0.4962 - val_binary_accuracy: 0.4962\n",
      "Epoch 27/50\n",
      "80913/80913 [==============================] - 18s 223us/step - loss: 0.6932 - acc: 0.5019 - binary_accuracy: 0.5019 - val_loss: 0.6931 - val_acc: 0.4962 - val_binary_accuracy: 0.4962\n",
      "Epoch 28/50\n",
      "80913/80913 [==============================] - 18s 225us/step - loss: 0.6932 - acc: 0.5005 - binary_accuracy: 0.5005 - val_loss: 0.6933 - val_acc: 0.4962 - val_binary_accuracy: 0.4962\n",
      "Epoch 29/50\n",
      "80913/80913 [==============================] - 17s 215us/step - loss: 0.6932 - acc: 0.5016 - binary_accuracy: 0.5016 - val_loss: 0.6933 - val_acc: 0.4962 - val_binary_accuracy: 0.4962\n",
      "Epoch 30/50\n",
      "80913/80913 [==============================] - 18s 221us/step - loss: 0.6932 - acc: 0.4990 - binary_accuracy: 0.4990 - val_loss: 0.6935 - val_acc: 0.4962 - val_binary_accuracy: 0.4962\n",
      "Epoch 31/50\n",
      "80913/80913 [==============================] - 18s 223us/step - loss: 0.6932 - acc: 0.5019 - binary_accuracy: 0.5019 - val_loss: 0.6937 - val_acc: 0.4962 - val_binary_accuracy: 0.4962\n",
      "Epoch 32/50\n",
      "80913/80913 [==============================] - 18s 225us/step - loss: 0.6932 - acc: 0.5022 - binary_accuracy: 0.5022 - val_loss: 0.6932 - val_acc: 0.4962 - val_binary_accuracy: 0.4962\n",
      "Epoch 33/50\n",
      "80913/80913 [==============================] - 17s 211us/step - loss: 0.6932 - acc: 0.5024 - binary_accuracy: 0.5024 - val_loss: 0.6932 - val_acc: 0.4962 - val_binary_accuracy: 0.4962\n",
      "Epoch 34/50\n",
      "80913/80913 [==============================] - 17s 215us/step - loss: 0.6932 - acc: 0.4976 - binary_accuracy: 0.4976 - val_loss: 0.6932 - val_acc: 0.4962 - val_binary_accuracy: 0.4962\n",
      "Epoch 35/50\n",
      "80913/80913 [==============================] - 18s 224us/step - loss: 0.6932 - acc: 0.5014 - binary_accuracy: 0.5014 - val_loss: 0.6938 - val_acc: 0.4962 - val_binary_accuracy: 0.4962\n",
      "Epoch 36/50\n",
      "80913/80913 [==============================] - 18s 221us/step - loss: 0.6932 - acc: 0.5013 - binary_accuracy: 0.5013 - val_loss: 0.6931 - val_acc: 0.4962 - val_binary_accuracy: 0.4962\n",
      "Epoch 37/50\n",
      "80913/80913 [==============================] - 18s 223us/step - loss: 0.6932 - acc: 0.4995 - binary_accuracy: 0.4995 - val_loss: 0.6933 - val_acc: 0.4962 - val_binary_accuracy: 0.4962\n",
      "Epoch 38/50\n",
      "80913/80913 [==============================] - 18s 217us/step - loss: 0.6932 - acc: 0.5018 - binary_accuracy: 0.5018 - val_loss: 0.6935 - val_acc: 0.4962 - val_binary_accuracy: 0.4962\n",
      "Epoch 39/50\n",
      "80913/80913 [==============================] - 18s 222us/step - loss: 0.6932 - acc: 0.5034 - binary_accuracy: 0.5034 - val_loss: 0.6932 - val_acc: 0.4962 - val_binary_accuracy: 0.4962\n",
      "Epoch 40/50\n",
      "80913/80913 [==============================] - 17s 206us/step - loss: 0.6932 - acc: 0.5006 - binary_accuracy: 0.5006 - val_loss: 0.6933 - val_acc: 0.4962 - val_binary_accuracy: 0.4962\n",
      "Epoch 41/50\n",
      "80913/80913 [==============================] - 18s 219us/step - loss: 0.6932 - acc: 0.5002 - binary_accuracy: 0.5002 - val_loss: 0.6931 - val_acc: 0.5038 - val_binary_accuracy: 0.5038\n",
      "Epoch 42/50\n"
     ]
    },
    {
     "name": "stdout",
     "output_type": "stream",
     "text": [
      "80913/80913 [==============================] - 18s 228us/step - loss: 0.6932 - acc: 0.4982 - binary_accuracy: 0.4982 - val_loss: 0.6932 - val_acc: 0.4962 - val_binary_accuracy: 0.4962\n",
      "Epoch 43/50\n",
      "80913/80913 [==============================] - 18s 223us/step - loss: 0.6932 - acc: 0.5021 - binary_accuracy: 0.5021 - val_loss: 0.6932 - val_acc: 0.4962 - val_binary_accuracy: 0.4962\n",
      "Epoch 44/50\n",
      "80913/80913 [==============================] - 18s 221us/step - loss: 0.6932 - acc: 0.4994 - binary_accuracy: 0.4994 - val_loss: 0.6934 - val_acc: 0.4962 - val_binary_accuracy: 0.4962\n",
      "Epoch 45/50\n",
      "80913/80913 [==============================] - 18s 225us/step - loss: 0.6932 - acc: 0.5037 - binary_accuracy: 0.5037 - val_loss: 0.6932 - val_acc: 0.5038 - val_binary_accuracy: 0.5038\n",
      "Epoch 46/50\n",
      "80913/80913 [==============================] - 18s 224us/step - loss: 0.6932 - acc: 0.5017 - binary_accuracy: 0.5017 - val_loss: 0.6932 - val_acc: 0.4962 - val_binary_accuracy: 0.4962\n",
      "Epoch 47/50\n",
      "80913/80913 [==============================] - 17s 216us/step - loss: 0.6932 - acc: 0.5008 - binary_accuracy: 0.5008 - val_loss: 0.6931 - val_acc: 0.5038 - val_binary_accuracy: 0.5038\n",
      "Epoch 48/50\n",
      "80913/80913 [==============================] - 18s 217us/step - loss: 0.6932 - acc: 0.4994 - binary_accuracy: 0.4994 - val_loss: 0.6931 - val_acc: 0.5038 - val_binary_accuracy: 0.5038\n",
      "Epoch 49/50\n",
      "80913/80913 [==============================] - 16s 200us/step - loss: 0.6932 - acc: 0.4998 - binary_accuracy: 0.4998 - val_loss: 0.6932 - val_acc: 0.4962 - val_binary_accuracy: 0.4962\n",
      "Epoch 50/50\n",
      "80913/80913 [==============================] - 16s 194us/step - loss: 0.6932 - acc: 0.5013 - binary_accuracy: 0.5013 - val_loss: 0.6932 - val_acc: 0.4962 - val_binary_accuracy: 0.4962\n"
     ]
    }
   ],
   "source": [
    "# Trainining\n",
    "\n",
    "# Train the model, iterating on the data in batches of 32 samples\n",
    "history = Model.fit(X2,              # the (now oversampled) dataset\n",
    "          Y2,                        #true or false values for the dataset \n",
    "          epochs=50,                 #number of iteration over data\n",
    "          batch_size=32,             #number of trainings between tests\n",
    "          verbose=1,                 #prints one line per epoch of progress bar\n",
    "          validation_split=0.1 )     #ratio of test to train"
   ]
  },
  {
   "cell_type": "code",
   "execution_count": 13,
   "metadata": {},
   "outputs": [
    {
     "data": {
      "image/png": "[encoded data removed]",
      "text/plain": [
       "<Figure size 432x288 with 1 Axes>"
      ]
     },
     "metadata": {},
     "output_type": "display_data"
    },
    {
     "data": {
      "image/png": "[encoded data removed]",
      "text/plain": [
       "<Figure size 432x288 with 1 Axes>"
      ]
     },
     "metadata": {},
     "output_type": "display_data"
    }
   ],
   "source": [
    "#summarise history for accuracy\n",
    "plt.plot(history.history['acc'])\n",
    "plt.plot(history.history['val_acc'])\n",
    "plt.title('model accuracy')\n",
    "plt.ylabel('accuracy')\n",
    "plt.xlabel('epoch')\n",
    "plt.legend(['train', 'test'], loc='upper left')\n",
    "plt.show()\n",
    "# summarize history for loss\n",
    "plt.plot(history.history['loss'])\n",
    "plt.plot(history.history['val_loss'])\n",
    "plt.title('model loss')\n",
    "plt.ylabel('loss')\n",
    "plt.xlabel('epoch')\n",
    "plt.legend(['train', 'test'], loc='upper left')\n",
    "plt.show()\n"
   ]
  },
  {
   "cell_type": "markdown",
   "metadata": {},
   "source": [
    "## Cant even overfit the data!"
   ]
  },
  {
   "cell_type": "code",
   "execution_count": null,
   "metadata": {},
   "outputs": [],
   "source": []
  }
 ],
 "metadata": {
  "kernelspec": {
   "display_name": "Python 3",
   "language": "python",
   "name": "python3"
  },
  "language_info": {
   "codemirror_mode": {
    "name": "ipython",
    "version": 3
   },
   "file_extension": ".py",
   "mimetype": "text/x-python",
   "name": "python",
   "nbconvert_exporter": "python",
   "pygments_lexer": "ipython3",
   "version": "3.6.5"
  }
 },
 "nbformat": 4,
 "nbformat_minor": 2
}
