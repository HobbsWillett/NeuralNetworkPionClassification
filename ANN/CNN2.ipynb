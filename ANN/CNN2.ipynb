{
 "cells": [
  {
   "cell_type": "markdown",
   "metadata": {},
   "source": [
    "## This time i undersample"
   ]
  },
  {
   "cell_type": "code",
   "execution_count": 1,
   "metadata": {},
   "outputs": [
    {
     "name": "stderr",
     "output_type": "stream",
     "text": [
      "Using TensorFlow backend.\n"
     ]
    },
    {
     "name": "stdout",
     "output_type": "stream",
     "text": [
      "--- 7.049002170562744 seconds ---\n"
     ]
    }
   ],
   "source": [
    "#imports\n",
    "import time\n",
    "start_time = time.time()\n",
    "import numpy as np\n",
    "from matplotlib import pyplot as plt\n",
    "from keras import Sequential\n",
    "from keras.layers import Dense, Dropout, Conv1D, Flatten\n",
    "from keras.metrics import binary_accuracy\n",
    "#from keras.utils import np_utils\n",
    "print(\"--- %s seconds ---\" % (time.time() - start_time))"
   ]
  },
  {
   "cell_type": "code",
   "execution_count": 2,
   "metadata": {},
   "outputs": [
    {
     "name": "stdout",
     "output_type": "stream",
     "text": [
      "--- 2.398987293243408 seconds ---\n",
      "(46280, 21)\n",
      " FirstLayer  LastLayer NHits  AverageZP Thrust  PID_Angle  PID_Front  PID_LLR_M  FirstLayer  LastLayer  NHits_Low  AverageZP  Thrust_Lo  PID_Angle  PID_Front  PID_LLR_M  Energy_As  Angle_Bet  Distance_Bet   Sig   Bg\n"
     ]
    }
   ],
   "source": [
    "# import datasets with time taken!\n",
    "#smoll\n",
    "\"\"\" # commented out to save computation\n",
    "start_time = time.time()\n",
    "smoll = np.loadtxt(\"/home/willett/NeutrinoData/small_CNN_input_processed.txt\", comments='#')\n",
    "print(\"--- %s seconds ---\" % (time.time() - start_time))\n",
    "print(smoll.shape)\n",
    "\"\"\"\n",
    "\n",
    "#and the full\n",
    "start_time = time.time()\n",
    "fll = np.loadtxt(\"/home/willett/NeutrinoData/full_CNN_input_processed.txt\", comments='#')\n",
    "print(\"--- %s seconds ---\" % (time.time() - start_time))\n",
    "print(fll.shape)\n",
    "\n",
    "\n",
    "\"\"\" # commented out to save computation\n",
    "#and the full\n",
    "start_time = time.time()\n",
    "fll = np.loadtxt(\"/home/willett/NeutrinoData/test_CNN_input_processed.txt\", comments='#')\n",
    "print(\"--- %s seconds ---\" % (time.time() - start_time))\n",
    "print(fll.shape)\n",
    "\"\"\"\n",
    "\n",
    "# extract title\n",
    "pls = open(\"/home/willett/NeutrinoData/small_CNN_input_processed.txt\", \"r\")\n",
    "title = pls.readline()\n",
    "title = title[2:-1]\n",
    "print(title)\n",
    "\n"
   ]
  },
  {
   "cell_type": "code",
   "execution_count": 3,
   "metadata": {},
   "outputs": [
    {
     "name": "stdout",
     "output_type": "stream",
     "text": [
      "shape:  (46280, 21) \n",
      "size:  971880  \n",
      "length:  46280\n"
     ]
    }
   ],
   "source": [
    "# creating a dataset switch, change what UsedData is to change CNN\n",
    "UD = fll # Used Data = <dataset>\n",
    "UDLength = UD.shape[0]\n",
    "print(\"shape: \",UD.shape,\"\\nsize: \", UD.size,\" \\nlength: \", UDLength)\n",
    "\n",
    "# dataset is expected in this format:\n",
    "# FirstLayer  LastLayer NHits  AverageZP Thrust  PID_Angle  PID_Front  PID_LLR_M\n",
    "#FirstLayer  LastLayer  NHits_Low  AverageZP  Thrust_Lo  PID_Angle  PID_Front  PID_LLR_M  \n",
    "#Energy_As  Angle_Bet  Distance_Bet   Sig   Bg\n",
    "\n",
    "# with Sig and Bg expected as one hot vectors."
   ]
  },
  {
   "cell_type": "code",
   "execution_count": 4,
   "metadata": {},
   "outputs": [
    {
     "name": "stdout",
     "output_type": "stream",
     "text": [
      "X shape:  (46280, 19) \n",
      "Y shape:  (46280, 2)\n"
     ]
    }
   ],
   "source": [
    "# splitting X = dataset , Y = one hot vectors\n",
    "X = UD[:,0:-2]\n",
    "Y = UD[:,-2:1000]\n",
    "print(\"X shape: \",X.shape,\"\\nY shape: \", Y.shape)\n",
    "\n",
    "# they will be split into testing and training at compile"
   ]
  },
  {
   "cell_type": "code",
   "execution_count": 5,
   "metadata": {},
   "outputs": [
    {
     "name": "stdout",
     "output_type": "stream",
     "text": [
      "0.0006966362622778047 0.6264844828458389\n"
     ]
    }
   ],
   "source": [
    "# this is a convolutional network so data must be spacially relevant: i.e. columns must be swapped.\n",
    "# Convolution kernel size = (2,)\n",
    "\n",
    "#swapping PID angle and PID front for high energy so two charge related variables in one convolution\n",
    "PIDAH = X[:,5]\n",
    "PIDFH = X[:,6]\n",
    "X[:,5:7] = np.column_stack((PIDFH,PIDAH))\n",
    "\n",
    "#swapping PID angle and PID front for low energy so two charge related variables in one convolution\n",
    "PIDAL = X[:,13]\n",
    "PIDFL = X[:,14]\n",
    "X[:,13:15] =  np.column_stack((PIDFL,PIDAL))\n",
    "\n",
    "#swapping Energy Asymetry and Distance so two geometric related variables in one convolution\n",
    "# While simultaneously padding with zeros!\n",
    "EAS = X[:,16]\n",
    "DB = X[:,-1]\n",
    "print(EAS[0],DB[0])\n",
    "X2 = np.zeros((UDLength,20))\n",
    "X2[:,0:-1] = X\n",
    "X2[:,16] = DB\n",
    "X2[:,18] = EAS\n",
    "\n",
    "#To debug print X before and X2 after, see if they swap"
   ]
  },
  {
   "cell_type": "code",
   "execution_count": 6,
   "metadata": {},
   "outputs": [],
   "source": [
    "X2 = np.expand_dims(X2, axis=2) # i.e. reshape (569, 30) to (569, 30, 1) for convolution "
   ]
  },
  {
   "cell_type": "code",
   "execution_count": 7,
   "metadata": {},
   "outputs": [
    {
     "name": "stdout",
     "output_type": "stream",
     "text": [
      "1148 45132 \n",
      " 1148\n",
      "[35198 43604 31460 ... 13794 23314 41969]\n",
      "[    6    81    94 ... 13794 23314 41969]\n",
      "(46280, 20, 1)\n",
      "(2296, 20, 1)\n",
      "2.0\n"
     ]
    }
   ],
   "source": [
    "# inevitable bias removal... by undersampling\n",
    "# using a 50% undersampling ratio, because i want to ! (no citation)\n",
    "\n",
    "SigI = np.where(Y[:,0] == 1)[0] \n",
    "BgI= np.where(Y[:,0] == 0)[0]\n",
    "SigN = SigI.size                     # how many background is going to survive\n",
    "print(SigI.size,BgI.size,\"\\n\",SigN)\n",
    "\n",
    "SurvivingBGIndex = np.random.choice(BgI, size = SigN, replace=False ) # dont want repeated values, to avoid \"weighting\" that event\n",
    "SurvivingTotalIndeces = np.append(SigI,SurvivingBGIndex)\n",
    "print(SurvivingBGIndex)\n",
    "print(SurvivingTotalIndeces)\n",
    "print(X2.shape)\n",
    "\n",
    "X3 = X2[SurvivingTotalIndeces]\n",
    "Y2 = Y[SurvivingTotalIndeces]\n",
    "print(X3.shape)\n",
    "print(X3.shape[0]/SigN)\n",
    "\n"
   ]
  },
  {
   "cell_type": "code",
   "execution_count": 18,
   "metadata": {},
   "outputs": [],
   "source": [
    "# set variables:\n",
    "InDim = (X3.shape[1],X3.shape[2])       #input dimension\n",
    "Fltr = 6                                #dimensionality of output space\n",
    "KD = 2                                  # kernel size\n",
    "Width = 12                               # width of dense layers ~ 0.75 input initially\n",
    "DR = 0.5                                # rate of dropout\n",
    "\n",
    "\n",
    "# linear model with a convolutional and 3 (?) dense layers.\n",
    "Model = Sequential() \n",
    "\n",
    "Model.add(Conv1D(Fltr,   KD  , input_shape=InDim  , activation=\"sigmoid\", use_bias=True  )) #conv\n",
    "Model.add(Flatten())\n",
    "Model.add(Dense(Width, activation=\"sigmoid\", use_bias=True)) #1\n",
    "Model.add(Dropout(DR) )\n",
    "Model.add(Dense(Width, activation=\"sigmoid\", use_bias=True)) #2\n",
    "Model.add(Dropout(DR) )\n",
    "Model.add(Dense(Width, activation=\"sigmoid\", use_bias=True)) #3\n",
    "Model.add(Dropout(DR) )\n",
    "\n",
    "#ooh\n",
    "Model.add(Dense(Width, activation=\"sigmoid\", use_bias=True)) #4!\n",
    "Model.add(Dropout(DR) )\n",
    "#aah!\n",
    "\n",
    "Model.add(Dense(2, activation=\"softmax\", use_bias=True)) # output layer"
   ]
  },
  {
   "cell_type": "code",
   "execution_count": 19,
   "metadata": {},
   "outputs": [],
   "source": [
    "# compile model:\n",
    "\n",
    "# For a binary classification problem\n",
    "Model.compile(optimizer='RMSprop',\n",
    "              loss='binary_crossentropy',\n",
    "              metrics=['accuracy', 'binary_accuracy' ])"
   ]
  },
  {
   "cell_type": "code",
   "execution_count": 20,
   "metadata": {},
   "outputs": [],
   "source": [
    "# Trainining\n",
    "\n",
    "# Train the model, iterating on the data in batches of 32 samples\n",
    "history = Model.fit(X3,              # the (now undersampled) dataset\n",
    "          Y2,                        #true or false values for the dataset \n",
    "          epochs=50,                 #number of iteration over data\n",
    "          batch_size=32,             #number of trainings between tests\n",
    "          verbose=0,                 #prints one line per epoch of progress bar\n",
    "          validation_split=0.1 )     #ratio of test to train"
   ]
  },
  {
   "cell_type": "code",
   "execution_count": 21,
   "metadata": {},
   "outputs": [
    {
     "data": {
      "image/png": "[encoded data removed]",
      "text/plain": [
       "<Figure size 432x288 with 1 Axes>"
      ]
     },
     "metadata": {},
     "output_type": "display_data"
    },
    {
     "data": {
      "image/png": "[encoded data removed]",
      "text/plain": [
       "<Figure size 432x288 with 1 Axes>"
      ]
     },
     "metadata": {},
     "output_type": "display_data"
    }
   ],
   "source": [
    "#summarise history for accuracy\n",
    "plt.plot(history.history['acc'])\n",
    "plt.plot(history.history['val_acc'])\n",
    "plt.title('model accuracy')\n",
    "plt.ylabel('accuracy')\n",
    "plt.xlabel('epoch')\n",
    "plt.legend(['train', 'test'], loc='upper left')\n",
    "plt.show()\n",
    "# summarize history for loss\n",
    "plt.plot(history.history['loss'])\n",
    "plt.plot(history.history['val_loss'])\n",
    "plt.title('model loss')\n",
    "plt.ylabel('loss')\n",
    "plt.xlabel('epoch')\n",
    "plt.legend(['train', 'test'], loc='upper left')\n",
    "plt.show()\n"
   ]
  },
  {
   "cell_type": "code",
   "execution_count": null,
   "metadata": {},
   "outputs": [],
   "source": []
  },
  {
   "cell_type": "code",
   "execution_count": null,
   "metadata": {},
   "outputs": [],
   "source": []
  }
 ],
 "metadata": {
  "kernelspec": {
   "display_name": "Python 3",
   "language": "python",
   "name": "python3"
  },
  "language_info": {
   "codemirror_mode": {
    "name": "ipython",
    "version": 3
   },
   "file_extension": ".py",
   "mimetype": "text/x-python",
   "name": "python",
   "nbconvert_exporter": "python",
   "pygments_lexer": "ipython3",
   "version": "3.6.5"
  }
 },
 "nbformat": 4,
 "nbformat_minor": 2
}
