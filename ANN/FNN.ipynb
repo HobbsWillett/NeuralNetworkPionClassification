{
 "cells": [
  {
   "cell_type": "markdown",
   "metadata": {},
   "source": [
    "## The Final Network\n",
    "\n",
    "## imports:"
   ]
  },
  {
   "cell_type": "code",
   "execution_count": 16,
   "metadata": {},
   "outputs": [
    {
     "name": "stdout",
     "output_type": "stream",
     "text": [
      "--- 0.0007371902465820312 seconds ---\n"
     ]
    }
   ],
   "source": [
    "#imports\n",
    "import time\n",
    "start_time = time.time()\n",
    "import numpy as np\n",
    "from matplotlib import pyplot as plt\n",
    "from keras import Sequential\n",
    "from keras.layers import Dense, Dropout, Flatten\n",
    "from keras.metrics import binary_accuracy\n",
    "from sklearn.metrics import roc_curve\n",
    "#from keras.utils import np_utils\n",
    "print(\"--- %s seconds ---\" % (time.time() - start_time))"
   ]
  },
  {
   "cell_type": "code",
   "execution_count": 2,
   "metadata": {},
   "outputs": [
    {
     "name": "stdout",
     "output_type": "stream",
     "text": [
      "--- 2.2724099159240723 seconds ---\n",
      "(76523, 16)\n",
      "--- 0.42290425300598145 seconds ---\n",
      "(11571, 21)\n",
      "['FirstLayer_H', 'LastLayer_H', 'NHits_H', 'AverageZP_H', 'Thrust_H', 'PID_Angle_H', 'PID_Front_H', 'PID_LLR_M_H', 'FirstLayer_L', 'LastLayer_L', 'NHits_L', 'AverageZP_L', 'PID_LLR_M_L', 'Distance_Bet', 'Sig', 'Bg'] \n",
      " \n",
      " ['FirstLayer_H', 'LastLayer_H', 'NHits_H', 'AverageZP_H', 'Thrust_H', 'PID_Angle_H', 'PID_Front_H', 'PID_LLR_M_H', 'FirstLayer_L', 'LastLayer_L', 'NHits_L', 'AverageZP_L', 'Thrust_L', 'PID_Angle_L', 'PID_Front_L', 'PID_LLR_M_L', 'Energy_As', 'Angle_Bet', 'Distance_Bet', 'Sig', 'Bg']\n"
     ]
    }
   ],
   "source": [
    "# import datasets with time taken!\n",
    "\n",
    "#the training dataset\n",
    "start_time = time.time()\n",
    "train = np.loadtxt(\"/home/willett/NeutrinoData/super_train_CNN_input_processed_cleaned_dropped.txt\", comments='#')\n",
    "print(\"--- %s seconds ---\" % (time.time() - start_time))\n",
    "print(train.shape)\n",
    "\n",
    "#and the evaluation dataset\n",
    "start_time = time.time()\n",
    "test = np.loadtxt(\"/home/willett/NeutrinoData/test_CNN_input_processed.txt\", comments='#')\n",
    "print(\"--- %s seconds ---\" % (time.time() - start_time))\n",
    "print(test.shape)\n",
    "\n",
    "\n",
    "# extract titles\n",
    "tr = open(\"/home/willett/NeutrinoData/super_train_CNN_input_processed_cleaned_dropped.txt\", \"r\")\n",
    "te = open(\"/home/willett/NeutrinoData/test_CNN_input_processed.txt\", \"r\")\n",
    "trtitle = tr.readline()\n",
    "tetitle = te.readline()\n",
    "trtitle = trtitle[2:-1]\n",
    "tetitle = tetitle[2:-1]\n",
    "trtitleArr = trtitle.split()\n",
    "tetitleArr = tetitle.split()\n",
    "print(trtitleArr,\"\\n \\n\",tetitleArr)"
   ]
  },
  {
   "cell_type": "code",
   "execution_count": 3,
   "metadata": {},
   "outputs": [],
   "source": [
    "# in preprocessing we dropped a number of columns from the training, lets do that to the test data\n",
    "#we dropped columns: Thrust_L ,PID_Angle_L, PID_Front_L, Energy_As, Angle_Bet\n",
    "# ie:                  12,           13        14           16         17\n",
    "\n",
    "obj= np.array([12,13,14,16,17])\n",
    "test2 = np.delete(test,obj,axis =1   )\n",
    "test2.shape\n",
    "tetitleArr2 =np.delete(tetitleArr,obj )\n",
    "#print(tetitleArr2)\n",
    "#print(trtitleArr)\n",
    "#test2.shape"
   ]
  },
  {
   "cell_type": "code",
   "execution_count": 4,
   "metadata": {},
   "outputs": [
    {
     "name": "stdout",
     "output_type": "stream",
     "text": [
      "shape:  (76523, 16) \n",
      "size:  1224368  \n",
      "length:  76523\n",
      "X shape:  (76523, 14) \n",
      "Y shape:  (76523, 2)\n",
      "First line of X:  [3.16129024e-04 4.42580633e-03 3.79354828e-03 6.37316112e-01\n",
      " 2.97829927e-04 1.64063032e-02 4.12519545e-04 5.24418787e-03\n",
      " 6.32258047e-04 1.58064512e-03 1.58064512e-03 6.25935467e-01\n",
      " 2.58228694e-03 4.48798607e-01] \n",
      " First line of Y:  [0. 1.]\n",
      " Signal to Noise ratio:  49.463559975432226 % signal\n",
      "--- 0.013779878616333008 seconds ---\n"
     ]
    }
   ],
   "source": [
    "start_time = time.time()\n",
    "\n",
    "# creating a dataset switch, change what UsedData is to change CNN\n",
    "UD = train # Used Data = <dataset>\n",
    "UDLength = UD.shape[0]\n",
    "print(\"shape: \",UD.shape,\"\\nsize: \", UD.size,\" \\nlength: \", UDLength)\n",
    "\n",
    "# splitting X = dataset , Y = one hot vectors\n",
    "X = UD[:,0:-2]\n",
    "Y = UD[:,-2:1000]\n",
    "print(\"X shape: \",X.shape,\"\\nY shape: \", Y.shape)\n",
    "print(\"First line of X: \",X[0,:],\"\\n First line of Y: \",Y[0,:])\n",
    "\n",
    "SigI = np.where(Y[:,0] == 1)[0] \n",
    "BgI= np.where(Y[:,0] == 0)[0]\n",
    "SigN = SigI.size       # how much signal there is\n",
    "BgN = BgI.size         # how much background there is\n",
    "SNratio =  (100*SigN)/(SigN + BgN)\n",
    "print(\" Signal to Noise ratio: \",SNratio,\"% signal\")\n",
    "\n",
    "print(\"--- %s seconds ---\" % (time.time() - start_time))"
   ]
  },
  {
   "cell_type": "code",
   "execution_count": 5,
   "metadata": {},
   "outputs": [
    {
     "name": "stdout",
     "output_type": "stream",
     "text": [
      "(76523, 14)\n",
      "(76523, 14, 1)\n"
     ]
    }
   ],
   "source": [
    "print(X.shape)\n",
    "X2 = np.expand_dims(X, axis=2)\n",
    "print(X2.shape)"
   ]
  },
  {
   "cell_type": "markdown",
   "metadata": {},
   "source": [
    "## testing overfit of small data"
   ]
  },
  {
   "cell_type": "code",
   "execution_count": 6,
   "metadata": {},
   "outputs": [
    {
     "name": "stdout",
     "output_type": "stream",
     "text": [
      "7652\n"
     ]
    },
    {
     "data": {
      "text/plain": [
       "0.5"
      ]
     },
     "execution_count": 6,
     "metadata": {},
     "output_type": "execute_result"
    }
   ],
   "source": [
    "TotLength = X2.shape[0]\n",
    "smallLength = int(0.10* TotLength)\n",
    "tinyLength  = 2\n",
    "print(smallLength)\n",
    "Xsmall = X2[0:smallLength]\n",
    "Ysmall = Y[0:smallLength]\n",
    "Xtiny = X2[0:tinyLength]\n",
    "Ytiny = Y[0:tinyLength]\n",
    "np.mean(Ytiny[:,0])"
   ]
  },
  {
   "cell_type": "markdown",
   "metadata": {},
   "source": [
    "## the network:"
   ]
  },
  {
   "cell_type": "code",
   "execution_count": 7,
   "metadata": {},
   "outputs": [
    {
     "name": "stdout",
     "output_type": "stream",
     "text": [
      "--- 0.6255948543548584 seconds ---\n"
     ]
    }
   ],
   "source": [
    "#neural network architecture:\n",
    "model = Sequential()\n",
    "\n",
    "# set variables:\n",
    "width = 50 #--number on nodes in the layer\n",
    "parwidth = int(width/2)\n",
    "DR = 0.2 #--fraction of nodes dropped during training\n",
    "AT = \"sigmoid\" #--activation type for dense layers\n",
    "UB = True #--use bias vectors \n",
    "InDim = (14,1) #--input shape of single sample (tuple)\n",
    "\n",
    "#construction:\n",
    "start_time = time.time() # how long does it take?\n",
    "model.add(Dense(width,activation=AT, use_bias=UB, input_shape=InDim )) # input layer and 1\n",
    "model.add(Dropout(DR))\n",
    "model.add(Dense(width,activation=AT, use_bias=UB )) # 2\n",
    "model.add(Dropout(DR))\n",
    "model.add(Dense(width,activation=AT, use_bias=UB )) # 3\n",
    "model.add(Dropout(DR))\n",
    "model.add(Dense(width,activation=AT, use_bias=UB )) # 4\n",
    "model.add(Dropout(DR))\n",
    "\n",
    "#Because this one is deep: but not that deep\n",
    "model.add(Dense(width,activation=AT, use_bias=UB )) # 5\n",
    "model.add(Dropout(DR))\n",
    "model.add(Dense(width,activation=AT, use_bias=UB )) # 6\n",
    "model.add(Dropout(DR))\n",
    "\n",
    "#Possible additional depth\n",
    "model.add(Dense(width,activation=AT, use_bias=UB )) # 7\n",
    "model.add(Dropout(DR))\n",
    "model.add(Dense(width,activation=AT, use_bias=UB )) # 8(!)\n",
    "model.add(Dropout(DR))\n",
    "\n",
    "#Crazy depth!!!!!!!\n",
    "model.add(Dense(width,activation=AT, use_bias=UB )) # 9(!)\n",
    "model.add(Dropout(DR))\n",
    "model.add(Dense(width,activation=AT, use_bias=UB )) # 10(!)\n",
    "model.add(Dropout(DR))\n",
    "model.add(Dense(width,activation=AT, use_bias=UB )) # 11(!)\n",
    "model.add(Dropout(DR))\n",
    "model.add(Dense(width,activation=AT, use_bias=UB )) # 12(!)\n",
    "model.add(Dropout(DR))\n",
    "\n",
    "model.add(Flatten())  # reduce dimensionality of the input data for output\n",
    "\n",
    "model.add(Dense(2, activation=\"softmax\", use_bias=UB)) # output layer softmax recommended \n",
    "\n",
    "#(classification mutually excluive + softmax differentiable for optimizing)\n",
    "# -> https://www.quora.com/Artificial-Neural-Networks-Why-do-we-use-softmax-function-for-output-layer\n",
    "\n",
    "print(\"--- %s seconds ---\" % (time.time() - start_time))"
   ]
  },
  {
   "cell_type": "code",
   "execution_count": 8,
   "metadata": {},
   "outputs": [
    {
     "name": "stdout",
     "output_type": "stream",
     "text": [
      "--- 0.06150245666503906 seconds ---\n"
     ]
    }
   ],
   "source": [
    "# compile model:\n",
    "start_time = time.time() # how long does it take?\n",
    "model.compile(optimizer='adam',            \n",
    "              loss='binary_crossentropy',               \n",
    "              metrics=['accuracy', 'binary_accuracy' ])\n",
    "\n",
    "print(\"--- %s seconds ---\" % (time.time() - start_time))"
   ]
  },
  {
   "cell_type": "code",
   "execution_count": 9,
   "metadata": {
    "scrolled": true
   },
   "outputs": [
    {
     "name": "stdout",
     "output_type": "stream",
     "text": [
      "Train on 6886 samples, validate on 766 samples\n",
      "Epoch 1/100\n",
      "6886/6886 [==============================] - 8s 1ms/step - loss: 0.7282 - acc: 0.5033 - binary_accuracy: 0.5033 - val_loss: 0.6923 - val_acc: 0.5209 - val_binary_accuracy: 0.5209\n",
      "Epoch 2/100\n",
      "6886/6886 [==============================] - 6s 927us/step - loss: 0.7129 - acc: 0.5076 - binary_accuracy: 0.5076 - val_loss: 0.6937 - val_acc: 0.5209 - val_binary_accuracy: 0.5209\n",
      "Epoch 3/100\n",
      "6886/6886 [==============================] - 6s 928us/step - loss: 0.7135 - acc: 0.4907 - binary_accuracy: 0.4907 - val_loss: 0.6933 - val_acc: 0.5209 - val_binary_accuracy: 0.5209\n",
      "Epoch 4/100\n",
      "6886/6886 [==============================] - 7s 961us/step - loss: 0.7125 - acc: 0.5076 - binary_accuracy: 0.5076 - val_loss: 0.6923 - val_acc: 0.5209 - val_binary_accuracy: 0.5209\n",
      "Epoch 5/100\n",
      "6886/6886 [==============================] - 7s 1ms/step - loss: 0.7041 - acc: 0.4965 - binary_accuracy: 0.4965 - val_loss: 0.6961 - val_acc: 0.4791 - val_binary_accuracy: 0.4791\n",
      "Epoch 6/100\n",
      "6886/6886 [==============================] - 7s 1ms/step - loss: 0.7001 - acc: 0.4978 - binary_accuracy: 0.4978 - val_loss: 0.6924 - val_acc: 0.5209 - val_binary_accuracy: 0.5209\n",
      "Epoch 7/100\n",
      "6886/6886 [==============================] - 6s 943us/step - loss: 0.6966 - acc: 0.5030 - binary_accuracy: 0.5030 - val_loss: 0.6932 - val_acc: 0.4791 - val_binary_accuracy: 0.4791\n",
      "Epoch 8/100\n",
      "6886/6886 [==============================] - 6s 909us/step - loss: 0.6966 - acc: 0.4964 - binary_accuracy: 0.4964 - val_loss: 0.6935 - val_acc: 0.4791 - val_binary_accuracy: 0.4791\n",
      "Epoch 9/100\n",
      "6886/6886 [==============================] - 7s 962us/step - loss: 0.6953 - acc: 0.5125 - binary_accuracy: 0.5125 - val_loss: 0.6925 - val_acc: 0.5209 - val_binary_accuracy: 0.5209\n",
      "Epoch 10/100\n",
      "6886/6886 [==============================] - 6s 905us/step - loss: 0.6958 - acc: 0.4952 - binary_accuracy: 0.4952 - val_loss: 0.6923 - val_acc: 0.5209 - val_binary_accuracy: 0.5209\n",
      "Epoch 11/100\n",
      "6886/6886 [==============================] - 7s 1ms/step - loss: 0.6952 - acc: 0.5003 - binary_accuracy: 0.5003 - val_loss: 0.6923 - val_acc: 0.5209 - val_binary_accuracy: 0.5209\n",
      "Epoch 12/100\n",
      "6886/6886 [==============================] - 6s 925us/step - loss: 0.6950 - acc: 0.5007 - binary_accuracy: 0.5007 - val_loss: 0.6928 - val_acc: 0.5209 - val_binary_accuracy: 0.5209\n",
      "Epoch 13/100\n",
      "6886/6886 [==============================] - 6s 824us/step - loss: 0.6951 - acc: 0.4897 - binary_accuracy: 0.4897 - val_loss: 0.6923 - val_acc: 0.5209 - val_binary_accuracy: 0.5209\n",
      "Epoch 14/100\n",
      "6886/6886 [==============================] - 7s 993us/step - loss: 0.6934 - acc: 0.5080 - binary_accuracy: 0.5080 - val_loss: 0.6950 - val_acc: 0.4791 - val_binary_accuracy: 0.4791\n",
      "Epoch 15/100\n",
      "6886/6886 [==============================] - 7s 1ms/step - loss: 0.6950 - acc: 0.4971 - binary_accuracy: 0.4971 - val_loss: 0.6926 - val_acc: 0.5209 - val_binary_accuracy: 0.5209\n",
      "Epoch 16/100\n",
      "6886/6886 [==============================] - 7s 962us/step - loss: 0.6940 - acc: 0.5030 - binary_accuracy: 0.5030 - val_loss: 0.6925 - val_acc: 0.5209 - val_binary_accuracy: 0.5209\n",
      "Epoch 17/100\n",
      "6886/6886 [==============================] - 7s 984us/step - loss: 0.6938 - acc: 0.5112 - binary_accuracy: 0.5112 - val_loss: 0.6948 - val_acc: 0.4791 - val_binary_accuracy: 0.4791\n",
      "Epoch 18/100\n",
      "6886/6886 [==============================] - 7s 1ms/step - loss: 0.6936 - acc: 0.4983 - binary_accuracy: 0.4983 - val_loss: 0.6923 - val_acc: 0.5209 - val_binary_accuracy: 0.5209\n",
      "Epoch 19/100\n",
      "6886/6886 [==============================] - 7s 981us/step - loss: 0.6935 - acc: 0.4987 - binary_accuracy: 0.4987 - val_loss: 0.6930 - val_acc: 0.5209 - val_binary_accuracy: 0.5209\n",
      "Epoch 20/100\n",
      "6886/6886 [==============================] - 7s 965us/step - loss: 0.6941 - acc: 0.4943 - binary_accuracy: 0.4943 - val_loss: 0.6930 - val_acc: 0.5209 - val_binary_accuracy: 0.5209\n",
      "Epoch 21/100\n",
      "6886/6886 [==============================] - 6s 897us/step - loss: 0.6939 - acc: 0.4958 - binary_accuracy: 0.4958 - val_loss: 0.6937 - val_acc: 0.4791 - val_binary_accuracy: 0.4791\n",
      "Epoch 22/100\n",
      "6886/6886 [==============================] - 6s 888us/step - loss: 0.6939 - acc: 0.4959 - binary_accuracy: 0.4959 - val_loss: 0.6924 - val_acc: 0.5209 - val_binary_accuracy: 0.5209\n",
      "Epoch 23/100\n",
      "6886/6886 [==============================] - 7s 1ms/step - loss: 0.6935 - acc: 0.5029 - binary_accuracy: 0.5029 - val_loss: 0.6929 - val_acc: 0.5209 - val_binary_accuracy: 0.5209\n",
      "Epoch 24/100\n",
      "6886/6886 [==============================] - 7s 963us/step - loss: 0.6938 - acc: 0.4955 - binary_accuracy: 0.4955 - val_loss: 0.6927 - val_acc: 0.5209 - val_binary_accuracy: 0.5209\n",
      "Epoch 25/100\n",
      "6886/6886 [==============================] - 6s 910us/step - loss: 0.6940 - acc: 0.5077 - binary_accuracy: 0.5077 - val_loss: 0.6948 - val_acc: 0.4791 - val_binary_accuracy: 0.4791\n",
      "Epoch 26/100\n",
      "6886/6886 [==============================] - 6s 860us/step - loss: 0.6935 - acc: 0.4985 - binary_accuracy: 0.4985 - val_loss: 0.6924 - val_acc: 0.5209 - val_binary_accuracy: 0.5209\n",
      "Epoch 27/100\n",
      "6886/6886 [==============================] - 7s 954us/step - loss: 0.6938 - acc: 0.4920 - binary_accuracy: 0.4920 - val_loss: 0.6926 - val_acc: 0.5209 - val_binary_accuracy: 0.5209\n",
      "Epoch 28/100\n",
      "6886/6886 [==============================] - 7s 948us/step - loss: 0.6936 - acc: 0.4962 - binary_accuracy: 0.4962 - val_loss: 0.6926 - val_acc: 0.5209 - val_binary_accuracy: 0.5209\n",
      "Epoch 29/100\n",
      "6886/6886 [==============================] - 6s 938us/step - loss: 0.6935 - acc: 0.4959 - binary_accuracy: 0.4959 - val_loss: 0.6925 - val_acc: 0.5209 - val_binary_accuracy: 0.5209\n",
      "Epoch 30/100\n",
      "6886/6886 [==============================] - 6s 890us/step - loss: 0.6935 - acc: 0.5029 - binary_accuracy: 0.5029 - val_loss: 0.6923 - val_acc: 0.5209 - val_binary_accuracy: 0.5209\n",
      "Epoch 31/100\n",
      "6886/6886 [==============================] - 6s 922us/step - loss: 0.6939 - acc: 0.4923 - binary_accuracy: 0.4923 - val_loss: 0.6929 - val_acc: 0.5209 - val_binary_accuracy: 0.5209\n",
      "Epoch 32/100\n",
      "6886/6886 [==============================] - 6s 934us/step - loss: 0.6933 - acc: 0.4972 - binary_accuracy: 0.4972 - val_loss: 0.6930 - val_acc: 0.5209 - val_binary_accuracy: 0.5209\n",
      "Epoch 33/100\n",
      "6886/6886 [==============================] - 6s 931us/step - loss: 0.6932 - acc: 0.4981 - binary_accuracy: 0.4981 - val_loss: 0.6926 - val_acc: 0.5209 - val_binary_accuracy: 0.5209\n",
      "Epoch 34/100\n",
      "6886/6886 [==============================] - 7s 1ms/step - loss: 0.6935 - acc: 0.5067 - binary_accuracy: 0.5067 - val_loss: 0.6933 - val_acc: 0.4791 - val_binary_accuracy: 0.4791\n",
      "Epoch 35/100\n",
      "6886/6886 [==============================] - 6s 902us/step - loss: 0.6936 - acc: 0.5044 - binary_accuracy: 0.5044 - val_loss: 0.6938 - val_acc: 0.4791 - val_binary_accuracy: 0.4791\n",
      "Epoch 36/100\n",
      "6886/6886 [==============================] - 7s 1ms/step - loss: 0.6932 - acc: 0.5048 - binary_accuracy: 0.5048 - val_loss: 0.6929 - val_acc: 0.5209 - val_binary_accuracy: 0.5209\n",
      "Epoch 37/100\n",
      "6886/6886 [==============================] - 6s 897us/step - loss: 0.6934 - acc: 0.4956 - binary_accuracy: 0.4956 - val_loss: 0.6928 - val_acc: 0.5209 - val_binary_accuracy: 0.5209\n",
      "Epoch 38/100\n",
      "6886/6886 [==============================] - 6s 899us/step - loss: 0.6935 - acc: 0.4932 - binary_accuracy: 0.4932 - val_loss: 0.6925 - val_acc: 0.5209 - val_binary_accuracy: 0.5209\n",
      "Epoch 39/100\n",
      "6886/6886 [==============================] - 6s 917us/step - loss: 0.6935 - acc: 0.5023 - binary_accuracy: 0.5023 - val_loss: 0.6928 - val_acc: 0.5209 - val_binary_accuracy: 0.5209\n",
      "Epoch 40/100\n",
      "6886/6886 [==============================] - 7s 973us/step - loss: 0.6930 - acc: 0.5087 - binary_accuracy: 0.5087 - val_loss: 0.6926 - val_acc: 0.5209 - val_binary_accuracy: 0.5209\n",
      "Epoch 41/100\n",
      "6886/6886 [==============================] - 7s 1ms/step - loss: 0.6933 - acc: 0.5067 - binary_accuracy: 0.5067 - val_loss: 0.6931 - val_acc: 0.5209 - val_binary_accuracy: 0.5209\n",
      "Epoch 42/100\n",
      "6886/6886 [==============================] - 6s 904us/step - loss: 0.6934 - acc: 0.4940 - binary_accuracy: 0.4940 - val_loss: 0.6931 - val_acc: 0.5209 - val_binary_accuracy: 0.5209\n",
      "Epoch 43/100\n"
     ]
    },
    {
     "name": "stdout",
     "output_type": "stream",
     "text": [
      "6886/6886 [==============================] - 7s 955us/step - loss: 0.6933 - acc: 0.5009 - binary_accuracy: 0.5009 - val_loss: 0.6926 - val_acc: 0.5209 - val_binary_accuracy: 0.5209\n",
      "Epoch 44/100\n",
      "6886/6886 [==============================] - 6s 894us/step - loss: 0.6933 - acc: 0.5013 - binary_accuracy: 0.5013 - val_loss: 0.6924 - val_acc: 0.5209 - val_binary_accuracy: 0.5209\n",
      "Epoch 45/100\n",
      "6886/6886 [==============================] - 7s 959us/step - loss: 0.6933 - acc: 0.4985 - binary_accuracy: 0.4985 - val_loss: 0.6933 - val_acc: 0.4791 - val_binary_accuracy: 0.4791\n",
      "Epoch 46/100\n",
      "6886/6886 [==============================] - 7s 1ms/step - loss: 0.6931 - acc: 0.5123 - binary_accuracy: 0.5123 - val_loss: 0.6927 - val_acc: 0.5209 - val_binary_accuracy: 0.5209\n",
      "Epoch 47/100\n",
      "6886/6886 [==============================] - 7s 969us/step - loss: 0.6931 - acc: 0.5083 - binary_accuracy: 0.5083 - val_loss: 0.6932 - val_acc: 0.4791 - val_binary_accuracy: 0.4791\n",
      "Epoch 48/100\n",
      "6886/6886 [==============================] - 7s 1ms/step - loss: 0.6934 - acc: 0.4987 - binary_accuracy: 0.4987 - val_loss: 0.6931 - val_acc: 0.5209 - val_binary_accuracy: 0.5209\n",
      "Epoch 49/100\n",
      "6886/6886 [==============================] - 7s 994us/step - loss: 0.6935 - acc: 0.4955 - binary_accuracy: 0.4955 - val_loss: 0.6929 - val_acc: 0.5209 - val_binary_accuracy: 0.5209\n",
      "Epoch 50/100\n",
      "6886/6886 [==============================] - 7s 1ms/step - loss: 0.6932 - acc: 0.5007 - binary_accuracy: 0.5007 - val_loss: 0.6931 - val_acc: 0.5209 - val_binary_accuracy: 0.5209\n",
      "Epoch 51/100\n",
      "6886/6886 [==============================] - 7s 979us/step - loss: 0.6934 - acc: 0.4990 - binary_accuracy: 0.4990 - val_loss: 0.6928 - val_acc: 0.5209 - val_binary_accuracy: 0.5209\n",
      "Epoch 52/100\n",
      "6886/6886 [==============================] - 6s 941us/step - loss: 0.6933 - acc: 0.5057 - binary_accuracy: 0.5057 - val_loss: 0.6927 - val_acc: 0.5209 - val_binary_accuracy: 0.5209\n",
      "Epoch 53/100\n",
      "6886/6886 [==============================] - 7s 1000us/step - loss: 0.6935 - acc: 0.5001 - binary_accuracy: 0.5001 - val_loss: 0.6929 - val_acc: 0.5209 - val_binary_accuracy: 0.5209\n",
      "Epoch 54/100\n",
      "6886/6886 [==============================] - 7s 993us/step - loss: 0.6935 - acc: 0.4871 - binary_accuracy: 0.4871 - val_loss: 0.6927 - val_acc: 0.5209 - val_binary_accuracy: 0.5209\n",
      "Epoch 55/100\n",
      "6886/6886 [==============================] - 7s 1ms/step - loss: 0.6932 - acc: 0.5044 - binary_accuracy: 0.5044 - val_loss: 0.6929 - val_acc: 0.5209 - val_binary_accuracy: 0.5209\n",
      "Epoch 56/100\n",
      "6886/6886 [==============================] - 7s 1ms/step - loss: 0.6934 - acc: 0.5023 - binary_accuracy: 0.5023 - val_loss: 0.6931 - val_acc: 0.5209 - val_binary_accuracy: 0.5209\n",
      "Epoch 57/100\n",
      "6886/6886 [==============================] - 7s 1ms/step - loss: 0.6932 - acc: 0.5026 - binary_accuracy: 0.5026 - val_loss: 0.6931 - val_acc: 0.5209 - val_binary_accuracy: 0.5209\n",
      "Epoch 58/100\n",
      "6886/6886 [==============================] - 7s 993us/step - loss: 0.6931 - acc: 0.5054 - binary_accuracy: 0.5054 - val_loss: 0.6932 - val_acc: 0.4791 - val_binary_accuracy: 0.4791\n",
      "Epoch 59/100\n",
      "6886/6886 [==============================] - 6s 917us/step - loss: 0.6932 - acc: 0.5076 - binary_accuracy: 0.5076 - val_loss: 0.6931 - val_acc: 0.5209 - val_binary_accuracy: 0.5209\n",
      "Epoch 60/100\n",
      "6886/6886 [==============================] - 6s 906us/step - loss: 0.6933 - acc: 0.4970 - binary_accuracy: 0.4970 - val_loss: 0.6928 - val_acc: 0.5209 - val_binary_accuracy: 0.5209\n",
      "Epoch 61/100\n",
      "6886/6886 [==============================] - 6s 905us/step - loss: 0.6931 - acc: 0.5023 - binary_accuracy: 0.5023 - val_loss: 0.6929 - val_acc: 0.5209 - val_binary_accuracy: 0.5209\n",
      "Epoch 62/100\n",
      "6886/6886 [==============================] - 7s 980us/step - loss: 0.6932 - acc: 0.5057 - binary_accuracy: 0.5057 - val_loss: 0.6930 - val_acc: 0.5209 - val_binary_accuracy: 0.5209\n",
      "Epoch 63/100\n",
      "6886/6886 [==============================] - 6s 934us/step - loss: 0.6933 - acc: 0.4961 - binary_accuracy: 0.4961 - val_loss: 0.6929 - val_acc: 0.5209 - val_binary_accuracy: 0.5209\n",
      "Epoch 64/100\n",
      "6886/6886 [==============================] - 6s 850us/step - loss: 0.6933 - acc: 0.4990 - binary_accuracy: 0.4990 - val_loss: 0.6929 - val_acc: 0.5209 - val_binary_accuracy: 0.5209\n",
      "Epoch 65/100\n",
      "6886/6886 [==============================] - 7s 964us/step - loss: 0.6932 - acc: 0.5044 - binary_accuracy: 0.5044 - val_loss: 0.6928 - val_acc: 0.5209 - val_binary_accuracy: 0.5209\n",
      "Epoch 66/100\n",
      "6886/6886 [==============================] - 7s 1ms/step - loss: 0.6932 - acc: 0.5084 - binary_accuracy: 0.5084 - val_loss: 0.6929 - val_acc: 0.5209 - val_binary_accuracy: 0.5209\n",
      "Epoch 67/100\n",
      "6886/6886 [==============================] - 7s 1ms/step - loss: 0.6932 - acc: 0.5046 - binary_accuracy: 0.5046 - val_loss: 0.6930 - val_acc: 0.5209 - val_binary_accuracy: 0.5209\n",
      "Epoch 68/100\n",
      "6886/6886 [==============================] - 7s 945us/step - loss: 0.6933 - acc: 0.4921 - binary_accuracy: 0.4921 - val_loss: 0.6928 - val_acc: 0.5209 - val_binary_accuracy: 0.5209\n",
      "Epoch 69/100\n",
      "6886/6886 [==============================] - 7s 1ms/step - loss: 0.6933 - acc: 0.4940 - binary_accuracy: 0.4940 - val_loss: 0.6927 - val_acc: 0.5209 - val_binary_accuracy: 0.5209\n",
      "Epoch 70/100\n",
      "6886/6886 [==============================] - 6s 884us/step - loss: 0.6933 - acc: 0.5035 - binary_accuracy: 0.5035 - val_loss: 0.6927 - val_acc: 0.5209 - val_binary_accuracy: 0.5209\n",
      "Epoch 71/100\n",
      "6886/6886 [==============================] - 7s 1ms/step - loss: 0.6934 - acc: 0.4978 - binary_accuracy: 0.4978 - val_loss: 0.6928 - val_acc: 0.5209 - val_binary_accuracy: 0.5209\n",
      "Epoch 72/100\n",
      "6886/6886 [==============================] - 6s 842us/step - loss: 0.6931 - acc: 0.5074 - binary_accuracy: 0.5074 - val_loss: 0.6930 - val_acc: 0.5209 - val_binary_accuracy: 0.5209\n",
      "Epoch 73/100\n",
      "6886/6886 [==============================] - 7s 1ms/step - loss: 0.6932 - acc: 0.5036 - binary_accuracy: 0.5036 - val_loss: 0.6927 - val_acc: 0.5209 - val_binary_accuracy: 0.5209\n",
      "Epoch 74/100\n",
      "6886/6886 [==============================] - 6s 881us/step - loss: 0.6932 - acc: 0.5083 - binary_accuracy: 0.5083 - val_loss: 0.6931 - val_acc: 0.5209 - val_binary_accuracy: 0.5209\n",
      "Epoch 75/100\n",
      "6886/6886 [==============================] - 7s 1ms/step - loss: 0.6931 - acc: 0.5049 - binary_accuracy: 0.5049 - val_loss: 0.6929 - val_acc: 0.5209 - val_binary_accuracy: 0.5209\n",
      "Epoch 76/100\n",
      "6886/6886 [==============================] - 6s 901us/step - loss: 0.6932 - acc: 0.5032 - binary_accuracy: 0.5032 - val_loss: 0.6927 - val_acc: 0.5209 - val_binary_accuracy: 0.5209\n",
      "Epoch 77/100\n",
      "6886/6886 [==============================] - 7s 962us/step - loss: 0.6932 - acc: 0.5019 - binary_accuracy: 0.5019 - val_loss: 0.6928 - val_acc: 0.5209 - val_binary_accuracy: 0.5209\n",
      "Epoch 78/100\n",
      "6886/6886 [==============================] - 7s 1ms/step - loss: 0.6933 - acc: 0.4946 - binary_accuracy: 0.4946 - val_loss: 0.6930 - val_acc: 0.5209 - val_binary_accuracy: 0.5209\n",
      "Epoch 79/100\n",
      "6886/6886 [==============================] - 6s 882us/step - loss: 0.6932 - acc: 0.4975 - binary_accuracy: 0.4975 - val_loss: 0.6929 - val_acc: 0.5209 - val_binary_accuracy: 0.5209\n",
      "Epoch 80/100\n",
      "6886/6886 [==============================] - 6s 940us/step - loss: 0.6931 - acc: 0.5019 - binary_accuracy: 0.5019 - val_loss: 0.6930 - val_acc: 0.5209 - val_binary_accuracy: 0.5209\n",
      "Epoch 81/100\n",
      "6886/6886 [==============================] - 6s 886us/step - loss: 0.6932 - acc: 0.4955 - binary_accuracy: 0.4955 - val_loss: 0.6927 - val_acc: 0.5209 - val_binary_accuracy: 0.5209\n",
      "Epoch 82/100\n",
      "6886/6886 [==============================] - 7s 970us/step - loss: 0.6933 - acc: 0.5029 - binary_accuracy: 0.5029 - val_loss: 0.6929 - val_acc: 0.5209 - val_binary_accuracy: 0.5209\n",
      "Epoch 83/100\n",
      "6886/6886 [==============================] - 7s 983us/step - loss: 0.6932 - acc: 0.5048 - binary_accuracy: 0.5048 - val_loss: 0.6927 - val_acc: 0.5209 - val_binary_accuracy: 0.5209\n",
      "Epoch 84/100\n",
      "6886/6886 [==============================] - 7s 972us/step - loss: 0.6933 - acc: 0.5039 - binary_accuracy: 0.5039 - val_loss: 0.6932 - val_acc: 0.4791 - val_binary_accuracy: 0.4791\n",
      "Epoch 85/100\n"
     ]
    },
    {
     "name": "stdout",
     "output_type": "stream",
     "text": [
      "6886/6886 [==============================] - 7s 1ms/step - loss: 0.6931 - acc: 0.4978 - binary_accuracy: 0.4978 - val_loss: 0.6927 - val_acc: 0.5209 - val_binary_accuracy: 0.5209\n",
      "Epoch 86/100\n",
      "6886/6886 [==============================] - 7s 973us/step - loss: 0.6932 - acc: 0.5038 - binary_accuracy: 0.5038 - val_loss: 0.6928 - val_acc: 0.5209 - val_binary_accuracy: 0.5209\n",
      "Epoch 87/100\n",
      "6886/6886 [==============================] - 6s 909us/step - loss: 0.6932 - acc: 0.4999 - binary_accuracy: 0.4999 - val_loss: 0.6927 - val_acc: 0.5209 - val_binary_accuracy: 0.5209\n",
      "Epoch 88/100\n",
      "6886/6886 [==============================] - 6s 930us/step - loss: 0.6932 - acc: 0.5051 - binary_accuracy: 0.5051 - val_loss: 0.6928 - val_acc: 0.5209 - val_binary_accuracy: 0.5209\n",
      "Epoch 89/100\n",
      "6886/6886 [==============================] - 6s 927us/step - loss: 0.6933 - acc: 0.4968 - binary_accuracy: 0.4968 - val_loss: 0.6929 - val_acc: 0.5209 - val_binary_accuracy: 0.5209\n",
      "Epoch 90/100\n",
      "6886/6886 [==============================] - 6s 942us/step - loss: 0.6931 - acc: 0.5009 - binary_accuracy: 0.5009 - val_loss: 0.6928 - val_acc: 0.5209 - val_binary_accuracy: 0.5209\n",
      "Epoch 91/100\n",
      "6886/6886 [==============================] - 7s 1ms/step - loss: 0.6931 - acc: 0.5030 - binary_accuracy: 0.5030 - val_loss: 0.6927 - val_acc: 0.5209 - val_binary_accuracy: 0.5209\n",
      "Epoch 92/100\n",
      "6886/6886 [==============================] - 7s 1ms/step - loss: 0.6932 - acc: 0.5028 - binary_accuracy: 0.5028 - val_loss: 0.6930 - val_acc: 0.5209 - val_binary_accuracy: 0.5209\n",
      "Epoch 93/100\n",
      "6886/6886 [==============================] - 7s 949us/step - loss: 0.6932 - acc: 0.5000 - binary_accuracy: 0.5000 - val_loss: 0.6928 - val_acc: 0.5209 - val_binary_accuracy: 0.5209\n",
      "Epoch 94/100\n",
      "6886/6886 [==============================] - 7s 957us/step - loss: 0.6932 - acc: 0.5049 - binary_accuracy: 0.5049 - val_loss: 0.6929 - val_acc: 0.5209 - val_binary_accuracy: 0.5209\n",
      "Epoch 95/100\n",
      "6886/6886 [==============================] - 6s 943us/step - loss: 0.6932 - acc: 0.5031 - binary_accuracy: 0.5031 - val_loss: 0.6930 - val_acc: 0.5209 - val_binary_accuracy: 0.5209\n",
      "Epoch 96/100\n",
      "6886/6886 [==============================] - 7s 995us/step - loss: 0.6931 - acc: 0.4926 - binary_accuracy: 0.4926 - val_loss: 0.6929 - val_acc: 0.5209 - val_binary_accuracy: 0.5209\n",
      "Epoch 97/100\n",
      "6886/6886 [==============================] - 7s 946us/step - loss: 0.6933 - acc: 0.5039 - binary_accuracy: 0.5039 - val_loss: 0.6929 - val_acc: 0.5209 - val_binary_accuracy: 0.5209\n",
      "Epoch 98/100\n",
      "6886/6886 [==============================] - 6s 913us/step - loss: 0.6932 - acc: 0.5035 - binary_accuracy: 0.5035 - val_loss: 0.6928 - val_acc: 0.5209 - val_binary_accuracy: 0.5209\n",
      "Epoch 99/100\n",
      "6886/6886 [==============================] - 7s 999us/step - loss: 0.6932 - acc: 0.5045 - binary_accuracy: 0.5045 - val_loss: 0.6927 - val_acc: 0.5209 - val_binary_accuracy: 0.5209\n",
      "Epoch 100/100\n",
      "6886/6886 [==============================] - 7s 1ms/step - loss: 0.6932 - acc: 0.5009 - binary_accuracy: 0.5009 - val_loss: 0.6928 - val_acc: 0.5209 - val_binary_accuracy: 0.5209\n",
      "--- 663.241617679596 seconds ---\n"
     ]
    }
   ],
   "source": [
    "# Train the model, iterating on the data in batches\n",
    "\n",
    "start_time = time.time()               # how long does it take?\n",
    "history = model.fit(Xsmall,                # the (now oversampled) dataset\n",
    "          Ysmall,                           #true or false values for the dataset \n",
    "          epochs=100  ,                #number of iteration over data\n",
    "          batch_size=100,              #number of trainings between tests\n",
    "          verbose=1,                   #prints one line per epoch of progress bar\n",
    "          validation_split=0.1,        #ratio of test to train\n",
    "          shuffle = True  )    \n",
    "\n",
    "print(\"--- %s seconds ---\" % (time.time() - start_time))"
   ]
  },
  {
   "cell_type": "markdown",
   "metadata": {},
   "source": [
    "## evaluate the NN:"
   ]
  },
  {
   "cell_type": "code",
   "execution_count": 10,
   "metadata": {},
   "outputs": [
    {
     "data": {
      "image/png": "[encoded data removed]",
      "text/plain": [
       "<Figure size 432x288 with 1 Axes>"
      ]
     },
     "metadata": {},
     "output_type": "display_data"
    },
    {
     "data": {
      "image/png": "[encoded data removed]",
      "text/plain": [
       "<Figure size 432x288 with 1 Axes>"
      ]
     },
     "metadata": {},
     "output_type": "display_data"
    }
   ],
   "source": [
    "#summarise history for accuracy\n",
    "plt.plot(history.history['acc'])\n",
    "plt.plot(history.history['val_acc'])\n",
    "plt.title('model accuracy')\n",
    "plt.ylabel('accuracy')\n",
    "plt.xlabel('epoch')\n",
    "plt.legend(['train', 'test'], loc='upper left')\n",
    "plt.show()\n",
    "# summarize history for loss\n",
    "plt.plot(history.history['loss'])\n",
    "plt.plot(history.history['val_loss'])\n",
    "plt.title('model loss')\n",
    "plt.ylabel('loss')\n",
    "plt.xlabel('epoch')\n",
    "plt.legend(['train', 'test'], loc='upper left')\n",
    "plt.show()"
   ]
  },
  {
   "cell_type": "code",
   "execution_count": 11,
   "metadata": {},
   "outputs": [
    {
     "name": "stdout",
     "output_type": "stream",
     "text": [
      "xtest shape:  (11571, 14) \n",
      " post expand Dim xtest shape (11571, 14, 1) \n",
      " ytest shape:  (11571, 2)\n",
      "['loss', 'acc', 'binary_accuracy']\n",
      "11571/11571 [==============================] - 8s 670us/step\n"
     ]
    },
    {
     "data": {
      "text/plain": [
       "[0.6853054026345397, 0.9761472647135079, 0.9761472647135079]"
      ]
     },
     "execution_count": 11,
     "metadata": {},
     "output_type": "execute_result"
    }
   ],
   "source": [
    "\n",
    "# splitting X = dataset , Y = one hot vectors\n",
    "xtest = test2[:,0:-2]\n",
    "ytest = test2[:,-2:1000]\n",
    "xtest2 = np.expand_dims(xtest, axis=2)\n",
    "print(\"xtest shape: \",xtest.shape,\"\\n post expand Dim xtest shape\",xtest2.shape,\"\\n ytest shape: \", ytest.shape)\n",
    "\n",
    "# evaluate accuracy\n",
    "print(model.metrics_names)\n",
    "model.evaluate(xtest2, ytest, batch_size=None, verbose=1, sample_weight=None, steps=None)\n",
    "\n",
    "# assuming evaluate and predict output the same...\n",
    "ypredict = model.predict(xtest2, batch_size=None, verbose=1, steps=None)"
   ]
  },
  {
   "cell_type": "code",
   "execution_count": 58,
   "metadata": {},
   "outputs": [
    {
     "name": "stdout",
     "output_type": "stream",
     "text": [
      "(array([], dtype=int64),) [0. 0. 0. ... 0. 0. 0.]\n",
      "[0. 0. 0. 0. 0. 0. 1. 0. 0. 0. 0. 0. 0. 0. 1. 0. 0. 0. 0. 0. 0. 1. 1. 0.\n",
      " 0.]\n"
     ]
    },
    {
     "name": "stderr",
     "output_type": "stream",
     "text": [
      "/home/willett/anaconda3/envs/tensorflow/lib/python3.6/site-packages/sklearn/metrics/ranking.py:571: UndefinedMetricWarning: No positive samples in y_true, true positive value should be meaningless\n",
      "  UndefinedMetricWarning)\n"
     ]
    },
    {
     "data": {
      "text/plain": [
       "[<matplotlib.lines.Line2D at 0x7f8bdc3e22e8>]"
      ]
     },
     "execution_count": 58,
     "metadata": {},
     "output_type": "execute_result"
    },
    {
     "data": {
      "image/png": "[encoded data removed]",
      "text/plain": [
       "<Figure size 432x288 with 1 Axes>"
      ]
     },
     "metadata": {},
     "output_type": "display_data"
    }
   ],
   "source": [
    "#print(ypredict[0:50,:])\n",
    "\n",
    "#roc curve needs binary vectors.\n",
    "\n",
    "# the predictions\n",
    "Ones = np.where(ypredict[:,0]>= 0.5)\n",
    "ypredictbin = np.zeros((ypredict.shape[0],))\n",
    "np.put(ypredictbin,Ones,1)\n",
    "print(Ones,ypredictbin)\n",
    "\n",
    "# the actual\n",
    "Ones = np.where(ytest[:,0]==1)\n",
    "ytestbin = np.zeros((ytest.shape[0],))\n",
    "np.put(ytestbin,Ones,1)\n",
    "print(ytestbin[10:35])\n",
    "\n",
    "\n",
    "\n",
    "fpr , tpr , thresholds = roc_curve(ypredictbin, ytestbin, pos_label=2, sample_weight=None, drop_intermediate=True)\n",
    "\n",
    "plt.plot(fpr,tpr)"
   ]
  },
  {
   "cell_type": "code",
   "execution_count": 12,
   "metadata": {},
   "outputs": [
    {
     "name": "stdout",
     "output_type": "stream",
     "text": [
      "(0,)\n"
     ]
    }
   ],
   "source": [
    "# what!?!?!?!?!? ^^^^ thats way too high\n",
    "\n",
    "# see if test data in the training set by accident\n",
    "#(xtest2 == X2).all(0).any()\n",
    "#np.unique\n",
    "#c = np.array(set(xtest2).symmetric_difference(X2))\n",
    "intersect = np.intersect1d(xtest2[:, 0], X2[:, 0])\n",
    "print(intersect.shape)"
   ]
  },
  {
   "cell_type": "markdown",
   "metadata": {
    "scrolled": true
   },
   "source": [
    "print(\"%s: %.2f%%\" % (model.metrics_names[1], scores[1]*100))\n",
    "cvscores.append(scores[1] * 100)\n",
    "print(\"%.2f%% (+/- %.2f%%)\" % (numpy.mean(cvscores), numpy.std(cvscores)))"
   ]
  },
  {
   "cell_type": "code",
   "execution_count": 13,
   "metadata": {},
   "outputs": [
    {
     "name": "stdout",
     "output_type": "stream",
     "text": [
      "Confusion matrix, without normalization\n",
      "[[    0   276]\n",
      " [    0 11295]]\n"
     ]
    },
    {
     "data": {
      "image/png": "[encoded data removed]",
      "text/plain": [
       "<Figure size 432x288 with 2 Axes>"
      ]
     },
     "metadata": {},
     "output_type": "display_data"
    }
   ],
   "source": [
    "from sklearn.metrics import confusion_matrix\n",
    "import itertools\n",
    "\n",
    "\n",
    "def plot_confusion_matrix(cm, classes,\n",
    "                          normalize=False,\n",
    "                          title='Confusion matrix',\n",
    "                          cmap=plt.cm.Blues):\n",
    "    \"\"\"\n",
    "    This function prints and plots the confusion matrix.\n",
    "    Normalization can be applied by setting `normalize=True`.\n",
    "    \"\"\"\n",
    "    if normalize:\n",
    "        cm = cm.astype('float') / cm.sum(axis=1)[:, np.newaxis]\n",
    "        print(\"Normalized confusion matrix\")\n",
    "    else:\n",
    "        print('Confusion matrix, without normalization')\n",
    "\n",
    "    print(cm)\n",
    "\n",
    "    plt.imshow(cm, interpolation='nearest', cmap=cmap)\n",
    "    plt.title(title)\n",
    "    plt.colorbar()\n",
    "    tick_marks = np.arange(len(classes))\n",
    "    plt.xticks(tick_marks, classes, rotation=45)\n",
    "    plt.yticks(tick_marks, classes)\n",
    "\n",
    "    fmt = '.2f' if normalize else 'd'\n",
    "    thresh = cm.max() / 2.\n",
    "    for i, j in itertools.product(range(cm.shape[0]), range(cm.shape[1])):\n",
    "        plt.text(j, i, format(cm[i, j], fmt),\n",
    "                 horizontalalignment=\"center\",\n",
    "                 color=\"white\" if cm[i, j] > thresh else \"black\")\n",
    "\n",
    "    plt.tight_layout()\n",
    "    plt.ylabel('True label')\n",
    "    plt.xlabel('Predicted label')\n",
    "\n",
    "confX = xtest2\n",
    "confY = ytest\n",
    "\n",
    "y_prob=model.predict(confX)\n",
    "y_pred = y_prob.argmax(axis=-1)\n",
    "y_test_labels = confY.argmax(axis=-1)\n",
    "cnf_matrix=confusion_matrix(y_test_labels, y_pred)\n",
    "class_names = ['Signal','Background']\n",
    "plot_confusion_matrix(cnf_matrix, classes=class_names,\n",
    "                      title='Confusion matrix, without normalization')\n"
   ]
  },
  {
   "cell_type": "code",
   "execution_count": null,
   "metadata": {},
   "outputs": [],
   "source": []
  }
 ],
 "metadata": {
  "kernelspec": {
   "display_name": "Python 3",
   "language": "python",
   "name": "python3"
  },
  "language_info": {
   "codemirror_mode": {
    "name": "ipython",
    "version": 3
   },
   "file_extension": ".py",
   "mimetype": "text/x-python",
   "name": "python",
   "nbconvert_exporter": "python",
   "pygments_lexer": "ipython3",
   "version": "3.6.5"
  }
 },
 "nbformat": 4,
 "nbformat_minor": 2
}
