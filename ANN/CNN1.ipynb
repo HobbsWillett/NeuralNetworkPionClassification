{
 "cells": [
  {
   "cell_type": "code",
   "execution_count": 18,
   "metadata": {},
   "outputs": [
    {
     "name": "stdout",
     "output_type": "stream",
     "text": [
      "--- 1.351668119430542 seconds ---\n"
     ]
    }
   ],
   "source": [
    "#imports\n",
    "import time\n",
    "start_time = time.time()\n",
    "import numpy as np\n",
    "from matplotlib import pyplot as plt\n",
    "from keras import Sequential\n",
    "from keras.layers import Dense, Dropout, Conv1D, Flatten\n",
    "from keras.metrics import binary_accuracy\n",
    "#from keras.utils import np_utils\n",
    "print(\"--- %s seconds ---\" % (time.time() - start_time))"
   ]
  },
  {
   "cell_type": "code",
   "execution_count": 2,
   "metadata": {},
   "outputs": [
    {
     "name": "stdout",
     "output_type": "stream",
     "text": [
      "--- 0.029651880264282227 seconds ---\n",
      "(247, 21)\n",
      " FirstLayer  LastLayer NHits  AverageZP Thrust  PID_Angle  PID_Front  PID_LLR_M  FirstLayer  LastLayer  NHits_Low  AverageZP  Thrust_Lo  PID_Angle  PID_Front  PID_LLR_M  Energy_As  Angle_Bet  Distance_Bet   Sig   Bg\n"
     ]
    }
   ],
   "source": [
    "# import datasets with time taken!\n",
    "#smoll\n",
    "start_time = time.time()\n",
    "smoll = np.loadtxt(\"/home/willett/NeutrinoData/small_CNN_input_processed.txt\", comments='#')\n",
    "print(\"--- %s seconds ---\" % (time.time() - start_time))\n",
    "print(smoll.shape)\n",
    "\n",
    "\"\"\" # commented out to save computation\n",
    "#and the full\n",
    "start_time = time.time()\n",
    "fll = np.loadtxt(\"/home/willett/NeutrinoData/full_CNN_input_processed.txt\", comments='#')\n",
    "print(\"--- %s seconds ---\" % (time.time() - start_time))\n",
    "print(fll.shape)\n",
    "\"\"\"\n",
    "\n",
    "\"\"\" # commented out to save computation\n",
    "#and the full\n",
    "start_time = time.time()\n",
    "fll = np.loadtxt(\"/home/willett/NeutrinoData/test_CNN_input_processed.txt\", comments='#')\n",
    "print(\"--- %s seconds ---\" % (time.time() - start_time))\n",
    "print(fll.shape)\n",
    "\"\"\"\n",
    "\n",
    "# extract title\n",
    "pls = open(\"/home/willett/NeutrinoData/small_CNN_input_processed.txt\", \"r\")\n",
    "title = pls.readline()\n",
    "title = title[2:-1]\n",
    "print(title)\n",
    "\n"
   ]
  },
  {
   "cell_type": "code",
   "execution_count": 3,
   "metadata": {},
   "outputs": [
    {
     "name": "stdout",
     "output_type": "stream",
     "text": [
      "shape:  (247, 21) \n",
      "size:  5187  \n",
      "length:  247\n"
     ]
    }
   ],
   "source": [
    "# creating a dataset switch, change what UsedData is to change CNN\n",
    "UD = smoll # Used Data = <dataset>\n",
    "UDLength = UD.shape[0]\n",
    "print(\"shape: \",UD.shape,\"\\nsize: \", UD.size,\" \\nlength: \", UDLength)\n",
    "\n",
    "# dataset is expected in this format:\n",
    "# FirstLayer  LastLayer NHits  AverageZP Thrust  PID_Angle  PID_Front  PID_LLR_M  FirstLayer  LastLayer  NHits_Low  AverageZP  Thrust_Lo  PID_Angle  PID_Front  PID_LLR_M  Energy_As  Angle_Bet  Distance_Bet   Sig   Bg\n",
    "# with Sig and Bg expected as one hot vectors."
   ]
  },
  {
   "cell_type": "code",
   "execution_count": 4,
   "metadata": {},
   "outputs": [
    {
     "name": "stdout",
     "output_type": "stream",
     "text": [
      "X shape:  (247, 19) \n",
      "Y shape:  (247, 2)\n"
     ]
    }
   ],
   "source": [
    "# splitting X = dataset , Y = one hot vectors\n",
    "X = UD[:,0:-2]\n",
    "Y = UD[:,-2:1000]\n",
    "print(\"X shape: \",X.shape,\"\\nY shape: \", Y.shape)\n",
    "\n",
    "# they will be split into testing and training at compile"
   ]
  },
  {
   "cell_type": "code",
   "execution_count": 5,
   "metadata": {},
   "outputs": [
    {
     "name": "stdout",
     "output_type": "stream",
     "text": [
      "0.0006966362622778047 0.6264844828458389\n"
     ]
    }
   ],
   "source": [
    "# this is a convolutional network so data must be spacially relevant: i.e. columns must be swapped.\n",
    "# Convolution kernel size = (2,)\n",
    "\n",
    "#swapping PID angle and PID front for high energy so two charge related variables in one convolution\n",
    "PIDAH = X[:,5]\n",
    "PIDFH = X[:,6]\n",
    "X[:,5:7] = np.column_stack((PIDFH,PIDAH))\n",
    "\n",
    "#swapping PID angle and PID front for low energy so two charge related variables in one convolution\n",
    "PIDAL = X[:,13]\n",
    "PIDFL = X[:,14]\n",
    "X[:,13:15] =  np.column_stack((PIDFL,PIDAL))\n",
    "\n",
    "#swapping Energy Asymetry and Distance so two geometric related variables in one convolution\n",
    "# While simultaneously padding with zeros!\n",
    "EAS = X[:,16]\n",
    "DB = X[:,-1]\n",
    "print(EAS[0],DB[0])\n",
    "X2 = np.zeros((UDLength,20))\n",
    "X2[:,0:-1] = X\n",
    "X2[:,16] = DB\n",
    "X2[:,18] = EAS\n",
    "\n",
    "#To debug print X before and X2 after, see if they swap"
   ]
  },
  {
   "cell_type": "code",
   "execution_count": 6,
   "metadata": {},
   "outputs": [],
   "source": [
    "X2 = np.expand_dims(X2, axis=2) # i.e. reshape (569, 30) to (569, 30, 1) for convolution "
   ]
  },
  {
   "cell_type": "code",
   "execution_count": 7,
   "metadata": {},
   "outputs": [],
   "source": [
    "# inevitable bias removal..."
   ]
  },
  {
   "cell_type": "code",
   "execution_count": 8,
   "metadata": {},
   "outputs": [],
   "source": [
    "# set variables:\n",
    "InDim = (X2.shape[1],X2.shape[2])       #input dimension\n",
    "Fltr = 4                                #dimensionality of output space\n",
    "KD = 2                                  # kernel size\n",
    "Width = 8                               # width of dense layers ~ 0.75 input\n",
    "DR = 0.5                                # rate of dropout\n",
    "\n",
    "\n",
    "# linear model with a convolutional and 3 dense layers.\n",
    "Model = Sequential() \n",
    "\n",
    "Model.add(Conv1D(Fltr,   KD  , input_shape=InDim  , activation=\"sigmoid\", use_bias=True  )) #conv\n",
    "Model.add(Flatten())\n",
    "Model.add(Dense(Width, activation=\"sigmoid\", use_bias=True)) #1\n",
    "Model.add(Dropout(DR) )\n",
    "Model.add(Dense(Width, activation=\"sigmoid\", use_bias=True)) #2\n",
    "Model.add(Dropout(DR) )\n",
    "Model.add(Dense(Width, activation=\"sigmoid\", use_bias=True)) #3\n",
    "Model.add(Dropout(DR) )\n",
    "Model.add(Dense(2, activation=\"softmax\", use_bias=True)) # output layer"
   ]
  },
  {
   "cell_type": "code",
   "execution_count": 9,
   "metadata": {},
   "outputs": [],
   "source": [
    "# compile model:\n",
    "\n",
    "# For a binary classification problem\n",
    "Model.compile(optimizer='rmsprop',\n",
    "              loss='binary_crossentropy',\n",
    "              metrics=['accuracy', 'binary_accuracy' ])"
   ]
  },
  {
   "cell_type": "code",
   "execution_count": 22,
   "metadata": {},
   "outputs": [
    {
     "name": "stdout",
     "output_type": "stream",
     "text": [
      "Train on 197 samples, validate on 50 samples\n",
      "Epoch 1/100\n",
      "197/197 [==============================] - 0s 191us/step - loss: 0.1694 - acc: 0.9594 - binary_accuracy: 0.9594 - val_loss: 0.1680 - val_acc: 0.9600 - val_binary_accuracy: 0.9600\n",
      "Epoch 2/100\n",
      "197/197 [==============================] - 0s 245us/step - loss: 0.1702 - acc: 0.9594 - binary_accuracy: 0.9594 - val_loss: 0.1680 - val_acc: 0.9600 - val_binary_accuracy: 0.9600\n",
      "Epoch 3/100\n",
      "197/197 [==============================] - 0s 235us/step - loss: 0.1912 - acc: 0.9594 - binary_accuracy: 0.9594 - val_loss: 0.1680 - val_acc: 0.9600 - val_binary_accuracy: 0.9600\n",
      "Epoch 4/100\n",
      "197/197 [==============================] - 0s 191us/step - loss: 0.1768 - acc: 0.9594 - binary_accuracy: 0.9594 - val_loss: 0.1680 - val_acc: 0.9600 - val_binary_accuracy: 0.9600\n",
      "Epoch 5/100\n",
      "197/197 [==============================] - 0s 211us/step - loss: 0.1686 - acc: 0.9594 - binary_accuracy: 0.9594 - val_loss: 0.1680 - val_acc: 0.9600 - val_binary_accuracy: 0.9600\n",
      "Epoch 6/100\n",
      "197/197 [==============================] - 0s 240us/step - loss: 0.1929 - acc: 0.9594 - binary_accuracy: 0.9594 - val_loss: 0.1680 - val_acc: 0.9600 - val_binary_accuracy: 0.9600\n",
      "Epoch 7/100\n",
      "197/197 [==============================] - 0s 254us/step - loss: 0.1812 - acc: 0.9594 - binary_accuracy: 0.9594 - val_loss: 0.1680 - val_acc: 0.9600 - val_binary_accuracy: 0.9600\n",
      "Epoch 8/100\n",
      "197/197 [==============================] - 0s 287us/step - loss: 0.1781 - acc: 0.9594 - binary_accuracy: 0.9594 - val_loss: 0.1680 - val_acc: 0.9600 - val_binary_accuracy: 0.9600\n",
      "Epoch 9/100\n",
      "197/197 [==============================] - 0s 248us/step - loss: 0.1807 - acc: 0.9594 - binary_accuracy: 0.9594 - val_loss: 0.1680 - val_acc: 0.9600 - val_binary_accuracy: 0.9600\n",
      "Epoch 10/100\n",
      "197/197 [==============================] - 0s 247us/step - loss: 0.1757 - acc: 0.9594 - binary_accuracy: 0.9594 - val_loss: 0.1680 - val_acc: 0.9600 - val_binary_accuracy: 0.9600\n",
      "Epoch 11/100\n",
      "197/197 [==============================] - 0s 245us/step - loss: 0.1498 - acc: 0.9594 - binary_accuracy: 0.9594 - val_loss: 0.1681 - val_acc: 0.9600 - val_binary_accuracy: 0.9600\n",
      "Epoch 12/100\n",
      "197/197 [==============================] - 0s 146us/step - loss: 0.1643 - acc: 0.9594 - binary_accuracy: 0.9594 - val_loss: 0.1682 - val_acc: 0.9600 - val_binary_accuracy: 0.9600\n",
      "Epoch 13/100\n",
      "197/197 [==============================] - 0s 174us/step - loss: 0.1815 - acc: 0.9594 - binary_accuracy: 0.9594 - val_loss: 0.1681 - val_acc: 0.9600 - val_binary_accuracy: 0.9600\n",
      "Epoch 14/100\n",
      "197/197 [==============================] - 0s 179us/step - loss: 0.1735 - acc: 0.9594 - binary_accuracy: 0.9594 - val_loss: 0.1681 - val_acc: 0.9600 - val_binary_accuracy: 0.9600\n",
      "Epoch 15/100\n",
      "197/197 [==============================] - 0s 183us/step - loss: 0.1734 - acc: 0.9594 - binary_accuracy: 0.9594 - val_loss: 0.1681 - val_acc: 0.9600 - val_binary_accuracy: 0.9600\n",
      "Epoch 16/100\n",
      "197/197 [==============================] - 0s 132us/step - loss: 0.1824 - acc: 0.9594 - binary_accuracy: 0.9594 - val_loss: 0.1681 - val_acc: 0.9600 - val_binary_accuracy: 0.9600\n",
      "Epoch 17/100\n",
      "197/197 [==============================] - 0s 124us/step - loss: 0.1569 - acc: 0.9594 - binary_accuracy: 0.9594 - val_loss: 0.1681 - val_acc: 0.9600 - val_binary_accuracy: 0.9600\n",
      "Epoch 18/100\n",
      "197/197 [==============================] - 0s 131us/step - loss: 0.1874 - acc: 0.9594 - binary_accuracy: 0.9594 - val_loss: 0.1681 - val_acc: 0.9600 - val_binary_accuracy: 0.9600\n",
      "Epoch 19/100\n",
      "197/197 [==============================] - 0s 107us/step - loss: 0.1787 - acc: 0.9594 - binary_accuracy: 0.9594 - val_loss: 0.1681 - val_acc: 0.9600 - val_binary_accuracy: 0.9600\n",
      "Epoch 20/100\n",
      "197/197 [==============================] - 0s 101us/step - loss: 0.1907 - acc: 0.9594 - binary_accuracy: 0.9594 - val_loss: 0.1680 - val_acc: 0.9600 - val_binary_accuracy: 0.9600\n",
      "Epoch 21/100\n",
      "197/197 [==============================] - 0s 101us/step - loss: 0.1939 - acc: 0.9594 - binary_accuracy: 0.9594 - val_loss: 0.1680 - val_acc: 0.9600 - val_binary_accuracy: 0.9600\n",
      "Epoch 22/100\n",
      "197/197 [==============================] - 0s 125us/step - loss: 0.1829 - acc: 0.9594 - binary_accuracy: 0.9594 - val_loss: 0.1680 - val_acc: 0.9600 - val_binary_accuracy: 0.9600\n",
      "Epoch 23/100\n",
      "197/197 [==============================] - 0s 104us/step - loss: 0.1790 - acc: 0.9594 - binary_accuracy: 0.9594 - val_loss: 0.1680 - val_acc: 0.9600 - val_binary_accuracy: 0.9600\n",
      "Epoch 24/100\n",
      "197/197 [==============================] - 0s 139us/step - loss: 0.1932 - acc: 0.9594 - binary_accuracy: 0.9594 - val_loss: 0.1680 - val_acc: 0.9600 - val_binary_accuracy: 0.9600\n",
      "Epoch 25/100\n",
      "197/197 [==============================] - 0s 143us/step - loss: 0.1786 - acc: 0.9594 - binary_accuracy: 0.9594 - val_loss: 0.1680 - val_acc: 0.9600 - val_binary_accuracy: 0.9600\n",
      "Epoch 26/100\n",
      "197/197 [==============================] - 0s 203us/step - loss: 0.1761 - acc: 0.9594 - binary_accuracy: 0.9594 - val_loss: 0.1680 - val_acc: 0.9600 - val_binary_accuracy: 0.9600\n",
      "Epoch 27/100\n",
      "197/197 [==============================] - 0s 213us/step - loss: 0.1650 - acc: 0.9594 - binary_accuracy: 0.9594 - val_loss: 0.1680 - val_acc: 0.9600 - val_binary_accuracy: 0.9600\n",
      "Epoch 28/100\n",
      "197/197 [==============================] - 0s 185us/step - loss: 0.1756 - acc: 0.9594 - binary_accuracy: 0.9594 - val_loss: 0.1680 - val_acc: 0.9600 - val_binary_accuracy: 0.9600\n",
      "Epoch 29/100\n",
      "197/197 [==============================] - 0s 200us/step - loss: 0.1662 - acc: 0.9594 - binary_accuracy: 0.9594 - val_loss: 0.1680 - val_acc: 0.9600 - val_binary_accuracy: 0.9600\n",
      "Epoch 30/100\n",
      "197/197 [==============================] - 0s 194us/step - loss: 0.1853 - acc: 0.9594 - binary_accuracy: 0.9594 - val_loss: 0.1680 - val_acc: 0.9600 - val_binary_accuracy: 0.9600\n",
      "Epoch 31/100\n",
      "197/197 [==============================] - 0s 176us/step - loss: 0.1779 - acc: 0.9594 - binary_accuracy: 0.9594 - val_loss: 0.1680 - val_acc: 0.9600 - val_binary_accuracy: 0.9600\n",
      "Epoch 32/100\n",
      "197/197 [==============================] - 0s 240us/step - loss: 0.1712 - acc: 0.9594 - binary_accuracy: 0.9594 - val_loss: 0.1680 - val_acc: 0.9600 - val_binary_accuracy: 0.9600\n",
      "Epoch 33/100\n",
      "197/197 [==============================] - 0s 158us/step - loss: 0.1736 - acc: 0.9594 - binary_accuracy: 0.9594 - val_loss: 0.1680 - val_acc: 0.9600 - val_binary_accuracy: 0.9600\n",
      "Epoch 34/100\n",
      "197/197 [==============================] - 0s 180us/step - loss: 0.1605 - acc: 0.9594 - binary_accuracy: 0.9594 - val_loss: 0.1680 - val_acc: 0.9600 - val_binary_accuracy: 0.9600\n",
      "Epoch 35/100\n",
      "197/197 [==============================] - 0s 175us/step - loss: 0.1643 - acc: 0.9594 - binary_accuracy: 0.9594 - val_loss: 0.1680 - val_acc: 0.9600 - val_binary_accuracy: 0.9600\n",
      "Epoch 36/100\n",
      "197/197 [==============================] - 0s 196us/step - loss: 0.1756 - acc: 0.9594 - binary_accuracy: 0.9594 - val_loss: 0.1680 - val_acc: 0.9600 - val_binary_accuracy: 0.9600\n",
      "Epoch 37/100\n",
      "197/197 [==============================] - 0s 164us/step - loss: 0.1936 - acc: 0.9594 - binary_accuracy: 0.9594 - val_loss: 0.1680 - val_acc: 0.9600 - val_binary_accuracy: 0.9600\n",
      "Epoch 38/100\n",
      "197/197 [==============================] - 0s 146us/step - loss: 0.1752 - acc: 0.9594 - binary_accuracy: 0.9594 - val_loss: 0.1679 - val_acc: 0.9600 - val_binary_accuracy: 0.9600\n",
      "Epoch 39/100\n",
      "197/197 [==============================] - 0s 232us/step - loss: 0.1816 - acc: 0.9594 - binary_accuracy: 0.9594 - val_loss: 0.1679 - val_acc: 0.9600 - val_binary_accuracy: 0.9600\n",
      "Epoch 40/100\n",
      "197/197 [==============================] - 0s 210us/step - loss: 0.1755 - acc: 0.9594 - binary_accuracy: 0.9594 - val_loss: 0.1679 - val_acc: 0.9600 - val_binary_accuracy: 0.9600\n",
      "Epoch 41/100\n",
      "197/197 [==============================] - 0s 140us/step - loss: 0.1686 - acc: 0.9594 - binary_accuracy: 0.9594 - val_loss: 0.1679 - val_acc: 0.9600 - val_binary_accuracy: 0.9600\n",
      "Epoch 42/100\n",
      "197/197 [==============================] - 0s 130us/step - loss: 0.1793 - acc: 0.9594 - binary_accuracy: 0.9594 - val_loss: 0.1679 - val_acc: 0.9600 - val_binary_accuracy: 0.9600\n",
      "Epoch 43/100\n"
     ]
    },
    {
     "name": "stdout",
     "output_type": "stream",
     "text": [
      "197/197 [==============================] - 0s 116us/step - loss: 0.1801 - acc: 0.9594 - binary_accuracy: 0.9594 - val_loss: 0.1680 - val_acc: 0.9600 - val_binary_accuracy: 0.9600\n",
      "Epoch 44/100\n",
      "197/197 [==============================] - 0s 129us/step - loss: 0.1671 - acc: 0.9594 - binary_accuracy: 0.9594 - val_loss: 0.1680 - val_acc: 0.9600 - val_binary_accuracy: 0.9600\n",
      "Epoch 45/100\n",
      "197/197 [==============================] - 0s 144us/step - loss: 0.1764 - acc: 0.9594 - binary_accuracy: 0.9594 - val_loss: 0.1680 - val_acc: 0.9600 - val_binary_accuracy: 0.9600\n",
      "Epoch 46/100\n",
      "197/197 [==============================] - 0s 134us/step - loss: 0.1841 - acc: 0.9594 - binary_accuracy: 0.9594 - val_loss: 0.1680 - val_acc: 0.9600 - val_binary_accuracy: 0.9600\n",
      "Epoch 47/100\n",
      "197/197 [==============================] - 0s 165us/step - loss: 0.1739 - acc: 0.9594 - binary_accuracy: 0.9594 - val_loss: 0.1680 - val_acc: 0.9600 - val_binary_accuracy: 0.9600\n",
      "Epoch 48/100\n",
      "197/197 [==============================] - 0s 223us/step - loss: 0.1674 - acc: 0.9594 - binary_accuracy: 0.9594 - val_loss: 0.1680 - val_acc: 0.9600 - val_binary_accuracy: 0.9600\n",
      "Epoch 49/100\n",
      "197/197 [==============================] - 0s 121us/step - loss: 0.1704 - acc: 0.9594 - binary_accuracy: 0.9594 - val_loss: 0.1680 - val_acc: 0.9600 - val_binary_accuracy: 0.9600\n",
      "Epoch 50/100\n",
      "197/197 [==============================] - 0s 210us/step - loss: 0.1793 - acc: 0.9594 - binary_accuracy: 0.9594 - val_loss: 0.1680 - val_acc: 0.9600 - val_binary_accuracy: 0.9600\n",
      "Epoch 51/100\n",
      "197/197 [==============================] - 0s 183us/step - loss: 0.1728 - acc: 0.9594 - binary_accuracy: 0.9594 - val_loss: 0.1680 - val_acc: 0.9600 - val_binary_accuracy: 0.9600\n",
      "Epoch 52/100\n",
      "197/197 [==============================] - 0s 128us/step - loss: 0.1805 - acc: 0.9594 - binary_accuracy: 0.9594 - val_loss: 0.1680 - val_acc: 0.9600 - val_binary_accuracy: 0.9600\n",
      "Epoch 53/100\n",
      "197/197 [==============================] - 0s 123us/step - loss: 0.1719 - acc: 0.9594 - binary_accuracy: 0.9594 - val_loss: 0.1680 - val_acc: 0.9600 - val_binary_accuracy: 0.9600\n",
      "Epoch 54/100\n",
      "197/197 [==============================] - 0s 138us/step - loss: 0.1657 - acc: 0.9594 - binary_accuracy: 0.9594 - val_loss: 0.1681 - val_acc: 0.9600 - val_binary_accuracy: 0.9600\n",
      "Epoch 55/100\n",
      "197/197 [==============================] - 0s 90us/step - loss: 0.1884 - acc: 0.9594 - binary_accuracy: 0.9594 - val_loss: 0.1681 - val_acc: 0.9600 - val_binary_accuracy: 0.9600\n",
      "Epoch 56/100\n",
      "197/197 [==============================] - 0s 97us/step - loss: 0.1675 - acc: 0.9594 - binary_accuracy: 0.9594 - val_loss: 0.1681 - val_acc: 0.9600 - val_binary_accuracy: 0.9600\n",
      "Epoch 57/100\n",
      "197/197 [==============================] - 0s 107us/step - loss: 0.1651 - acc: 0.9594 - binary_accuracy: 0.9594 - val_loss: 0.1682 - val_acc: 0.9600 - val_binary_accuracy: 0.9600\n",
      "Epoch 58/100\n",
      "197/197 [==============================] - 0s 113us/step - loss: 0.1730 - acc: 0.9594 - binary_accuracy: 0.9594 - val_loss: 0.1682 - val_acc: 0.9600 - val_binary_accuracy: 0.9600\n",
      "Epoch 59/100\n",
      "197/197 [==============================] - 0s 107us/step - loss: 0.1734 - acc: 0.9594 - binary_accuracy: 0.9594 - val_loss: 0.1682 - val_acc: 0.9600 - val_binary_accuracy: 0.9600\n",
      "Epoch 60/100\n",
      "197/197 [==============================] - 0s 100us/step - loss: 0.1835 - acc: 0.9594 - binary_accuracy: 0.9594 - val_loss: 0.1681 - val_acc: 0.9600 - val_binary_accuracy: 0.9600\n",
      "Epoch 61/100\n",
      "197/197 [==============================] - 0s 106us/step - loss: 0.1751 - acc: 0.9594 - binary_accuracy: 0.9594 - val_loss: 0.1681 - val_acc: 0.9600 - val_binary_accuracy: 0.9600\n",
      "Epoch 62/100\n",
      "197/197 [==============================] - 0s 100us/step - loss: 0.1850 - acc: 0.9594 - binary_accuracy: 0.9594 - val_loss: 0.1681 - val_acc: 0.9600 - val_binary_accuracy: 0.9600\n",
      "Epoch 63/100\n",
      "197/197 [==============================] - 0s 92us/step - loss: 0.1893 - acc: 0.9594 - binary_accuracy: 0.9594 - val_loss: 0.1681 - val_acc: 0.9600 - val_binary_accuracy: 0.9600\n",
      "Epoch 64/100\n",
      "197/197 [==============================] - 0s 106us/step - loss: 0.1615 - acc: 0.9594 - binary_accuracy: 0.9594 - val_loss: 0.1681 - val_acc: 0.9600 - val_binary_accuracy: 0.9600\n",
      "Epoch 65/100\n",
      "197/197 [==============================] - 0s 104us/step - loss: 0.1728 - acc: 0.9594 - binary_accuracy: 0.9594 - val_loss: 0.1681 - val_acc: 0.9600 - val_binary_accuracy: 0.9600\n",
      "Epoch 66/100\n",
      "197/197 [==============================] - 0s 104us/step - loss: 0.1719 - acc: 0.9594 - binary_accuracy: 0.9594 - val_loss: 0.1682 - val_acc: 0.9600 - val_binary_accuracy: 0.9600\n",
      "Epoch 67/100\n",
      "197/197 [==============================] - 0s 110us/step - loss: 0.1623 - acc: 0.9594 - binary_accuracy: 0.9594 - val_loss: 0.1681 - val_acc: 0.9600 - val_binary_accuracy: 0.9600\n",
      "Epoch 68/100\n",
      "197/197 [==============================] - 0s 102us/step - loss: 0.1660 - acc: 0.9594 - binary_accuracy: 0.9594 - val_loss: 0.1682 - val_acc: 0.9600 - val_binary_accuracy: 0.9600\n",
      "Epoch 69/100\n",
      "197/197 [==============================] - 0s 108us/step - loss: 0.1770 - acc: 0.9594 - binary_accuracy: 0.9594 - val_loss: 0.1682 - val_acc: 0.9600 - val_binary_accuracy: 0.9600\n",
      "Epoch 70/100\n",
      "197/197 [==============================] - 0s 124us/step - loss: 0.1642 - acc: 0.9594 - binary_accuracy: 0.9594 - val_loss: 0.1682 - val_acc: 0.9600 - val_binary_accuracy: 0.9600\n",
      "Epoch 71/100\n",
      "197/197 [==============================] - 0s 92us/step - loss: 0.1966 - acc: 0.9594 - binary_accuracy: 0.9594 - val_loss: 0.1682 - val_acc: 0.9600 - val_binary_accuracy: 0.9600\n",
      "Epoch 72/100\n",
      "197/197 [==============================] - 0s 106us/step - loss: 0.1826 - acc: 0.9594 - binary_accuracy: 0.9594 - val_loss: 0.1681 - val_acc: 0.9600 - val_binary_accuracy: 0.9600\n",
      "Epoch 73/100\n",
      "197/197 [==============================] - 0s 114us/step - loss: 0.1686 - acc: 0.9594 - binary_accuracy: 0.9594 - val_loss: 0.1682 - val_acc: 0.9600 - val_binary_accuracy: 0.9600\n",
      "Epoch 74/100\n",
      "197/197 [==============================] - 0s 107us/step - loss: 0.1742 - acc: 0.9594 - binary_accuracy: 0.9594 - val_loss: 0.1681 - val_acc: 0.9600 - val_binary_accuracy: 0.9600\n",
      "Epoch 75/100\n",
      "197/197 [==============================] - 0s 118us/step - loss: 0.1707 - acc: 0.9594 - binary_accuracy: 0.9594 - val_loss: 0.1681 - val_acc: 0.9600 - val_binary_accuracy: 0.9600\n",
      "Epoch 76/100\n",
      "197/197 [==============================] - 0s 138us/step - loss: 0.1745 - acc: 0.9594 - binary_accuracy: 0.9594 - val_loss: 0.1682 - val_acc: 0.9600 - val_binary_accuracy: 0.9600\n",
      "Epoch 77/100\n",
      "197/197 [==============================] - 0s 159us/step - loss: 0.1885 - acc: 0.9594 - binary_accuracy: 0.9594 - val_loss: 0.1681 - val_acc: 0.9600 - val_binary_accuracy: 0.9600\n",
      "Epoch 78/100\n",
      "197/197 [==============================] - 0s 196us/step - loss: 0.2003 - acc: 0.9594 - binary_accuracy: 0.9594 - val_loss: 0.1681 - val_acc: 0.9600 - val_binary_accuracy: 0.9600\n",
      "Epoch 79/100\n",
      "197/197 [==============================] - 0s 244us/step - loss: 0.1833 - acc: 0.9594 - binary_accuracy: 0.9594 - val_loss: 0.1681 - val_acc: 0.9600 - val_binary_accuracy: 0.9600\n",
      "Epoch 80/100\n",
      "197/197 [==============================] - 0s 305us/step - loss: 0.1670 - acc: 0.9594 - binary_accuracy: 0.9594 - val_loss: 0.1681 - val_acc: 0.9600 - val_binary_accuracy: 0.9600\n",
      "Epoch 81/100\n",
      "197/197 [==============================] - 0s 267us/step - loss: 0.1788 - acc: 0.9594 - binary_accuracy: 0.9594 - val_loss: 0.1681 - val_acc: 0.9600 - val_binary_accuracy: 0.9600\n",
      "Epoch 82/100\n",
      "197/197 [==============================] - 0s 257us/step - loss: 0.1750 - acc: 0.9594 - binary_accuracy: 0.9594 - val_loss: 0.1682 - val_acc: 0.9600 - val_binary_accuracy: 0.9600\n",
      "Epoch 83/100\n",
      "197/197 [==============================] - 0s 264us/step - loss: 0.1771 - acc: 0.9594 - binary_accuracy: 0.9594 - val_loss: 0.1682 - val_acc: 0.9600 - val_binary_accuracy: 0.9600\n",
      "Epoch 84/100\n",
      "197/197 [==============================] - 0s 207us/step - loss: 0.1788 - acc: 0.9594 - binary_accuracy: 0.9594 - val_loss: 0.1682 - val_acc: 0.9600 - val_binary_accuracy: 0.9600\n",
      "Epoch 85/100\n",
      "197/197 [==============================] - 0s 114us/step - loss: 0.1659 - acc: 0.9594 - binary_accuracy: 0.9594 - val_loss: 0.1682 - val_acc: 0.9600 - val_binary_accuracy: 0.9600\n"
     ]
    },
    {
     "name": "stdout",
     "output_type": "stream",
     "text": [
      "Epoch 86/100\n",
      "197/197 [==============================] - 0s 130us/step - loss: 0.1663 - acc: 0.9594 - binary_accuracy: 0.9594 - val_loss: 0.1682 - val_acc: 0.9600 - val_binary_accuracy: 0.9600\n",
      "Epoch 87/100\n",
      "197/197 [==============================] - 0s 134us/step - loss: 0.1791 - acc: 0.9594 - binary_accuracy: 0.9594 - val_loss: 0.1682 - val_acc: 0.9600 - val_binary_accuracy: 0.9600\n",
      "Epoch 88/100\n",
      "197/197 [==============================] - 0s 117us/step - loss: 0.1723 - acc: 0.9594 - binary_accuracy: 0.9594 - val_loss: 0.1683 - val_acc: 0.9600 - val_binary_accuracy: 0.9600\n",
      "Epoch 89/100\n",
      "197/197 [==============================] - 0s 128us/step - loss: 0.1640 - acc: 0.9594 - binary_accuracy: 0.9594 - val_loss: 0.1683 - val_acc: 0.9600 - val_binary_accuracy: 0.9600\n",
      "Epoch 90/100\n",
      "197/197 [==============================] - 0s 129us/step - loss: 0.1769 - acc: 0.9594 - binary_accuracy: 0.9594 - val_loss: 0.1683 - val_acc: 0.9600 - val_binary_accuracy: 0.9600\n",
      "Epoch 91/100\n",
      "197/197 [==============================] - 0s 135us/step - loss: 0.1706 - acc: 0.9594 - binary_accuracy: 0.9594 - val_loss: 0.1683 - val_acc: 0.9600 - val_binary_accuracy: 0.9600\n",
      "Epoch 92/100\n",
      "197/197 [==============================] - 0s 178us/step - loss: 0.1804 - acc: 0.9594 - binary_accuracy: 0.9594 - val_loss: 0.1683 - val_acc: 0.9600 - val_binary_accuracy: 0.9600\n",
      "Epoch 93/100\n",
      "197/197 [==============================] - 0s 198us/step - loss: 0.1759 - acc: 0.9594 - binary_accuracy: 0.9594 - val_loss: 0.1684 - val_acc: 0.9600 - val_binary_accuracy: 0.9600\n",
      "Epoch 94/100\n",
      "197/197 [==============================] - 0s 229us/step - loss: 0.1616 - acc: 0.9594 - binary_accuracy: 0.9594 - val_loss: 0.1683 - val_acc: 0.9600 - val_binary_accuracy: 0.9600\n",
      "Epoch 95/100\n",
      "197/197 [==============================] - 0s 229us/step - loss: 0.1645 - acc: 0.9594 - binary_accuracy: 0.9594 - val_loss: 0.1684 - val_acc: 0.9600 - val_binary_accuracy: 0.9600\n",
      "Epoch 96/100\n",
      "197/197 [==============================] - 0s 159us/step - loss: 0.1784 - acc: 0.9594 - binary_accuracy: 0.9594 - val_loss: 0.1683 - val_acc: 0.9600 - val_binary_accuracy: 0.9600\n",
      "Epoch 97/100\n",
      "197/197 [==============================] - 0s 128us/step - loss: 0.1637 - acc: 0.9594 - binary_accuracy: 0.9594 - val_loss: 0.1684 - val_acc: 0.9600 - val_binary_accuracy: 0.9600\n",
      "Epoch 98/100\n",
      "197/197 [==============================] - 0s 140us/step - loss: 0.1748 - acc: 0.9594 - binary_accuracy: 0.9594 - val_loss: 0.1683 - val_acc: 0.9600 - val_binary_accuracy: 0.9600\n",
      "Epoch 99/100\n",
      "197/197 [==============================] - 0s 127us/step - loss: 0.1663 - acc: 0.9594 - binary_accuracy: 0.9594 - val_loss: 0.1683 - val_acc: 0.9600 - val_binary_accuracy: 0.9600\n",
      "Epoch 100/100\n",
      "197/197 [==============================] - 0s 116us/step - loss: 0.1647 - acc: 0.9594 - binary_accuracy: 0.9594 - val_loss: 0.1684 - val_acc: 0.9600 - val_binary_accuracy: 0.9600\n"
     ]
    }
   ],
   "source": [
    "# Trainining\n",
    "\n",
    "# Train the model, iterating on the data in batches of 32 samples\n",
    "history = Model.fit(X2,                        # the dataset\n",
    "          Y,                         #true or false values for the dataset \n",
    "          epochs=100,                 #number of iteration over data\n",
    "          batch_size=32,             #number of trainings between tests\n",
    "          verbose=1,                 #prints one line per epoch of progress bar\n",
    "          validation_split=0.2 )     #ratio of test to train"
   ]
  },
  {
   "cell_type": "code",
   "execution_count": 23,
   "metadata": {},
   "outputs": [
    {
     "data": {
      "image/png": "[encoded data removed]",
      "text/plain": [
       "<Figure size 432x288 with 1 Axes>"
      ]
     },
     "metadata": {},
     "output_type": "display_data"
    },
    {
     "data": {
      "image/png": "[encoded data removed]",
      "text/plain": [
       "<Figure size 432x288 with 1 Axes>"
      ]
     },
     "metadata": {},
     "output_type": "display_data"
    }
   ],
   "source": [
    "#summarise history for accuracy\n",
    "plt.plot(history.history['acc'])\n",
    "plt.plot(history.history['val_acc'])\n",
    "plt.title('model accuracy')\n",
    "plt.ylabel('accuracy')\n",
    "plt.xlabel('epoch')\n",
    "plt.legend(['train', 'test'], loc='upper left')\n",
    "plt.show()\n",
    "# summarize history for loss\n",
    "plt.plot(history.history['loss'])\n",
    "plt.plot(history.history['val_loss'])\n",
    "plt.title('model loss')\n",
    "plt.ylabel('loss')\n",
    "plt.xlabel('epoch')\n",
    "plt.legend(['train', 'test'], loc='upper left')\n",
    "plt.show()\n"
   ]
  },
  {
   "cell_type": "raw",
   "metadata": {},
   "source": [
    "from sklearn.metrics import confusion_matrix\n",
    "import itertools\n",
    "\n",
    "\n",
    "def plot_confusion_matrix(cm, classes,\n",
    "                          normalize=False,\n",
    "                          title='Confusion matrix',\n",
    "                          cmap=plt.cm.Blues):\n",
    "    \"\"\"\n",
    "    This function prints and plots the confusion matrix.\n",
    "    Normalization can be applied by setting `normalize=True`.\n",
    "    \"\"\"\n",
    "    if normalize:\n",
    "        cm = cm.astype('float') / cm.sum(axis=1)[:, np.newaxis]\n",
    "        print(\"Normalized confusion matrix\")\n",
    "    else:\n",
    "        print('Confusion matrix, without normalization')\n",
    "\n",
    "    print(cm)\n",
    "\n",
    "    plt.imshow(cm, interpolation='nearest', cmap=cmap)\n",
    "    plt.title(title)\n",
    "    plt.colorbar()\n",
    "    tick_marks = np.arange(len(classes))\n",
    "    plt.xticks(tick_marks, classes, rotation=45)\n",
    "    plt.yticks(tick_marks, classes)\n",
    "\n",
    "    fmt = '.2f' if normalize else 'd'\n",
    "    thresh = cm.max() / 2.\n",
    "    for i, j in itertools.product(range(cm.shape[0]), range(cm.shape[1])):\n",
    "        plt.text(j, i, format(cm[i, j], fmt),\n",
    "                 horizontalalignment=\"center\",\n",
    "                 color=\"white\" if cm[i, j] > thresh else \"black\")\n",
    "\n",
    "    plt.tight_layout()\n",
    "    plt.ylabel('True label')\n",
    "    plt.xlabel('Predicted label')\n",
    "\n",
    "    \n",
    "y_prob=model.predict(X_test)\n",
    "y_pred = y_prob.argmax(axis=-1)\n",
    "y_test_labels = y_test.argmax(axis=-1)\n",
    "cnf_matrix=confusion_matrix(y_test_labels, y_pred)\n",
    "class_names = ['No hurricane','hurricane']\n",
    "plot_confusion_matrix(cnf_matrix, classes=class_names,\n",
    "                      title='Confusion matrix, without normalization')\n"
   ]
  },
  {
   "cell_type": "code",
   "execution_count": 30,
   "metadata": {},
   "outputs": [
    {
     "data": {
      "text/plain": [
       "0.04219409282700422"
      ]
     },
     "execution_count": 30,
     "metadata": {},
     "output_type": "execute_result"
    }
   ],
   "source": [
    "Y.sum(0)[0] / Y.sum(0)[1] = SNRatio"
   ]
  },
  {
   "cell_type": "code",
   "execution_count": null,
   "metadata": {},
   "outputs": [],
   "source": []
  }
 ],
 "metadata": {
  "kernelspec": {
   "display_name": "Python 3",
   "language": "python",
   "name": "python3"
  },
  "language_info": {
   "codemirror_mode": {
    "name": "ipython",
    "version": 3
   },
   "file_extension": ".py",
   "mimetype": "text/x-python",
   "name": "python",
   "nbconvert_exporter": "python",
   "pygments_lexer": "ipython3",
   "version": "3.6.5"
  }
 },
 "nbformat": 4,
 "nbformat_minor": 2
}
